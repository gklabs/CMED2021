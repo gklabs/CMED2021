{
  "nbformat": 4,
  "nbformat_minor": 0,
  "metadata": {
    "colab": {
      "name": "CMED21.ipynb",
      "provenance": [],
      "collapsed_sections": [],
      "machine_shape": "hm"
    },
    "kernelspec": {
      "display_name": "Python 3",
      "name": "python3"
    },
    "accelerator": "GPU"
  },
  "cells": [
    {
      "cell_type": "markdown",
      "metadata": {
        "id": "JVKgClBUI6Xr"
      },
      "source": [
        "Attention based architectures work the best for this task. How do you classify Disposition vs NoDisposition?\n",
        "Errors will propagate through the multiple classification tasks that are present.\n",
        "- Bio-BERT for embeddings\n",
        "- Attention layer\n",
        "- Bi LSTM\n",
        "- Since the training data is small, it makes sense to do cross-validation on the training data. How to select the number of folds?\n",
        "\n",
        "\n",
        "Questions and comments\n",
        "- Should all of the text be used as features or only a select few?\n",
        "- Each record has multiple entity occurances that can correspond to an event. How to structure the training dataset in that case?\n",
        "- How can you make the model focus on those entity occurances?\n",
        "- \n",
        "\n",
        "Ideas\n",
        "- Look for the nearest punctuation mark(period, Question mark, exclamation, on either sides of the medicine entity occurance and cut that off as a datapoint. In that way, we will have multiple sentences coming off per clinical record and they can be then fed to a language model to learn embeddings and then followed by a neural architecture. \n",
        "- Or let the model dynamically choose the context window for the entity. How is this possible? Attention?\n",
        "- If the above is not the way, how are we supposed to feed annotated data to a model?\n",
        "\n"
      ]
    },
    {
      "cell_type": "code",
      "metadata": {
        "id": "0QluofZWYIfW"
      },
      "source": [
        "# function ClickConnect(){\n",
        "#     console.log(\"Clicked on connect button\"); \n",
        "#     document.querySelector(\"Put ID here\").click() // Change id here\n",
        "# }\n",
        "# setInterval(ClickConnect,60000)"
      ],
      "execution_count": null,
      "outputs": []
    },
    {
      "cell_type": "code",
      "metadata": {
        "id": "v3j-1ti70V4P",
        "colab": {
          "base_uri": "https://localhost:8080/"
        },
        "outputId": "5162cbcc-8218-4db9-c903-189abed3f40a"
      },
      "source": [
        "from google.colab import drive\n",
        "drive.mount('/content/drive')"
      ],
      "execution_count": null,
      "outputs": [
        {
          "output_type": "stream",
          "text": [
            "Drive already mounted at /content/drive; to attempt to forcibly remount, call drive.mount(\"/content/drive\", force_remount=True).\n"
          ],
          "name": "stdout"
        }
      ]
    },
    {
      "cell_type": "code",
      "metadata": {
        "id": "RAYkThg6Wxn7"
      },
      "source": [
        "%%capture\n",
        "!pip install wandb\n",
        "!pip install trains"
      ],
      "execution_count": null,
      "outputs": []
    },
    {
      "cell_type": "markdown",
      "metadata": {
        "id": "Mjj7d7UDWOgR"
      },
      "source": [
        "hyperparameter optimization"
      ]
    },
    {
      "cell_type": "code",
      "metadata": {
        "id": "ARo9Sx_tWMOl"
      },
      "source": [
        "# from trains.automation import UniformParameterRange, UniformIntegerParameterRange\n",
        "# from trains.automation import HyperParameterOptimizer\n",
        "# from trains.automation.optuna import OptimizerOptuna"
      ],
      "execution_count": null,
      "outputs": []
    },
    {
      "cell_type": "code",
      "metadata": {
        "id": "9zGz8J8A7PK6"
      },
      "source": [
        "# from trains import Task\n",
        "# task = Task.init(project_name='CMEDClassification', task_name='disposition')"
      ],
      "execution_count": null,
      "outputs": []
    },
    {
      "cell_type": "code",
      "metadata": {
        "id": "Y4xXlad6yCyi",
        "colab": {
          "base_uri": "https://localhost:8080/"
        },
        "outputId": "b06d93eb-46c3-48d2-c804-dccbe5eb27e1"
      },
      "source": [
        "import glob,os,time,timeit,re\n",
        "import pandas as pd\n",
        "import numpy as np\n",
        "import torch\n",
        "\n",
        "\n",
        "address= \"/content/drive/MyDrive/Dataset_pls/CMED21/data/\"\n",
        "train_textfile_list= sorted(glob.glob(address+'train/*.txt'))\n",
        "train_annfile_list= sorted(glob.glob(address+'train/*.ann'))\n",
        "\n",
        "print(str(train_textfile_list[0]),str(train_annfile_list[0]),sep='\\n')\n",
        "\n",
        "f = open(train_annfile_list[10], \"r\")\n",
        "g = open(train_textfile_list[10], \"r\")\n",
        "# print(f.read())\n",
        "# print(g.read())\n"
      ],
      "execution_count": null,
      "outputs": [
        {
          "output_type": "stream",
          "text": [
            "/content/drive/MyDrive/Dataset_pls/CMED21/data/train/100-01.txt\n",
            "/content/drive/MyDrive/Dataset_pls/CMED21/data/train/100-01.ann\n"
          ],
          "name": "stdout"
        }
      ]
    },
    {
      "cell_type": "code",
      "metadata": {
        "colab": {
          "base_uri": "https://localhost:8080/",
          "height": 35
        },
        "id": "ZtKYR4d-szG3",
        "outputId": "eb8d36b4-0fc3-4f5b-e28e-f63940db17ce"
      },
      "source": [
        "len(train_textfile_list)\n",
        "train_textfile_list[1]"
      ],
      "execution_count": null,
      "outputs": [
        {
          "output_type": "execute_result",
          "data": {
            "application/vnd.google.colaboratory.intrinsic+json": {
              "type": "string"
            },
            "text/plain": [
              "'/content/drive/MyDrive/Dataset_pls/CMED21/data/train/100-02.txt'"
            ]
          },
          "metadata": {
            "tags": []
          },
          "execution_count": 23
        }
      ]
    },
    {
      "cell_type": "code",
      "metadata": {
        "id": "G7ZXt4N7CJgr",
        "colab": {
          "base_uri": "https://localhost:8080/",
          "height": 154
        },
        "outputId": "f581dd16-2314-4a94-e684-4cb2160e998f"
      },
      "source": [
        "test_textfile_list= sorted(glob.glob(address+'test/*.txt'))\n",
        "test_annfile_list= sorted(glob.glob(address+'test/*.ann'))\n",
        "\n",
        "# print(str(test_textfile_list[0]),str(test_annfile_list[0]),sep='\\n')\n",
        "\n",
        "f = open(test_annfile_list[12], \"r\")\n",
        "g = open(test_textfile_list[12], \"r\")\n",
        "# print(f.read())\n",
        "# print(g.read())\n",
        "#collect all text files into a single list \n",
        "start = timeit.default_timer()\n",
        "mr_train= []\n",
        "mr_test = []\n",
        "\n",
        "for file in train_textfile_list:\n",
        "  g = open(file, \"r\")\n",
        "  mr_train.append(g.read())\n",
        "\n",
        "for file in test_textfile_list:\n",
        "  g = open(file, \"r\")\n",
        "  mr_test.append(g.read())\n",
        "\n",
        "\n",
        "stop = timeit.default_timer()\n",
        "\n",
        "print(\"train ={}, test={}\".format(len(mr_train), len(mr_test)))\n",
        "print('Time: ', stop - start) \n",
        "mr_train[1]"
      ],
      "execution_count": null,
      "outputs": [
        {
          "output_type": "stream",
          "text": [
            "train =400, test=100\n",
            "Time:  141.4041662789998\n"
          ],
          "name": "stdout"
        },
        {
          "output_type": "execute_result",
          "data": {
            "application/vnd.google.colaboratory.intrinsic+json": {
              "type": "string"
            },
            "text/plain": [
              "\"\\n\\n\\nRecord date: 2108-03-14\\n\\n                     CAMPBELL EMERGENCY DEPT VISIT\\n\\n \\n\\nVALDEZ,HARLAN,JR.   845-41-54-4                VISIT DATE: 03/14/08\\n\\nThe patient was seen and examined in the emergency department.  The \\n\\npatient was seen by the Emergency Medicine resident.  I have \\n\\ndiscussed the management with the resident.  I have also seen the \\n\\npatient primarily and reviewed the medical record.  This is a brief \\n\\naddendum to the medical record.\\n\\nHISTORY OF PRESENTING COMPLAINT:  Briefly, this is a 45-year-old \\n\\nmale who complains of several days of nausea, vomiting, and left \\n\\nlower quadrant discomfort.  He also describes intermittent chest \\n\\npain, which he has had for a number of months without significant \\n\\nchange.  He was sent in from his primary care doctor today with \\n\\nthis pain and was also noted to have some EKG changes.  The patient \\n\\nhas no chest pain at the time of evaluation in the emergency \\n\\ndepartment and no shortness of breath.\\n\\nREVIEW OF SYSTEMS:  As indicated and otherwise negative.\\n\\nPAST MEDICAL HISTORY:  As indicated in the chart.\\n\\nSOCIAL HISTORY AND FAMILY HISTORY:  As indicated in the chart.\\n\\nPHYSICAL EXAMINATION:  On physical examination, the patient is very \\n\\nwell-appearing, a smiling, very pleasant gentleman in no acute \\n\\ndistress.  The blood pressure is 119/90, the pulse 82, and the \\n\\ntemperature 97.9 degrees.  Normocephalic and atraumatic.  The chest \\n\\nis clear to auscultation.  The heart has a regular rate and rhythm. \\n\\nThe abdomen is soft.  He has left lower quadrant tenderness.  He \\n\\nalso, of note on cardiovascular examination, has a soft murmur \\n\\nwhich he says he has had since childhood.  The extremities are \\n\\nnormal.  The neurologic examination is non-focal. \\n\\nTHERAPY RENDERED/COURSE IN ED:  This is a gentleman with abdominal \\n\\npain who will receive a CAT scan to rule out diverticulitis.  He \\n\\nhas also had some non-specific ST changes on his EKG.  He is \\n\\npain-free at this time.  He does not describe a classic exertional \\n\\npattern for his chest pain, but given that he is a diabetic and \\n\\nwith EKG changes, he will also be admitted for rule out MI.  A CT \\n\\nis pending at the time of this dictation.\\n\\nDISPOSITION (including condition upon discharge):  As above.  The \\n\\npatient's condition is currently stable. \\n\\n___________________________________                    CK498/89095 \\n\\nJAY CARROLL, M.D.  JC72                                 D:03/14/08 \\n\\n                                                       T:03/14/08 \\n\\nDictated by:  JAY CARROLL, M.D.  JC72 \\n\\n ******** Not reviewed by Attending Physician ********\\n\\n\\n\\n\\n\\n\""
            ]
          },
          "metadata": {
            "tags": []
          },
          "execution_count": 24
        }
      ]
    },
    {
      "cell_type": "markdown",
      "metadata": {
        "id": "kayHdc7okhcN"
      },
      "source": [
        "We assume that there is a system that has already identified the location of the medication in the EMR like in the training annotation files."
      ]
    },
    {
      "cell_type": "code",
      "metadata": {
        "id": "hxp-1weTmBo_"
      },
      "source": [
        "#storing data\n",
        "class mention:\n",
        "  def __init__(self,term_id,event_id,startchar,endchar,medication,disposition,action,temporality,certainty,actor,negation):\n",
        "    self.term_id = term_id\n",
        "    self.event_id = event_id\n",
        "    self.startchar= startchar\n",
        "    self.endchar= endchar\n",
        "    self.medication = medication\n",
        "    self.disposition = disposition\n",
        "    self.action= action\n",
        "    self.temporality= temporality\n",
        "    self.certainty= certainty\n",
        "    self.actor= actor\n",
        "    self.negation= negation\n",
        "  def print_record(self):\n",
        "    # print(\"printing record\")\n",
        "    print(self.term_id,\n",
        "    self.event_id,\n",
        "    self.startchar,\n",
        "    self.endchar,\n",
        "    self.medication,\n",
        "    self.disposition,\n",
        "    self.action,\n",
        "    self.temporality,\n",
        "    self.certainty,\n",
        "    self.actor,\n",
        "    self.negation)"
      ],
      "execution_count": null,
      "outputs": []
    },
    {
      "cell_type": "code",
      "metadata": {
        "id": "RN8cczt8k7V0"
      },
      "source": [
        "#parse annotation file\n",
        "def parse_ann(annfile):\n",
        "  mention_list=[]\n",
        "  # print(annfile)\n",
        "  f= open(annfile,'r')\n",
        "  temp= f.read()\n",
        "  # print(f.read())\n",
        "  x=temp.splitlines()\n",
        "  # print(len(x))\n",
        "  # print(x)\n",
        "  t_list=[]\n",
        "  a_list=[]\n",
        "  e_dict= dict()\n",
        "  t_dict= dict()\n",
        "\n",
        "  for y in x:\n",
        "    if y[0] =='E':\n",
        "      zx= re.split('[\\t:]',y.rstrip())\n",
        "      # print(zx)\n",
        "      m= mention(zx[2],zx[0],'100','100','none',zx[1],'none','none','none','none','none')\n",
        "      mention_list.append(m)\n",
        "      e_dict[str(zx[0])] = zx[2]\n",
        "\n",
        "    if y[0] == 'T':\n",
        "      z= re.split('[\\t]',y)\n",
        "      # print(z)\n",
        "      split= re.split('[ ]',z[1])\n",
        "      for u in split:\n",
        "        if ';' not in u:\n",
        "          z.insert(1,u)\n",
        "      z.pop(4)\n",
        "      \n",
        "      # print(z)\n",
        "      t_list.append(z)\n",
        "      # t_dict[re.sub('T','E',z[0])]=z\n",
        "      t_dict[z[0]]=z\n",
        "\n",
        "      \n",
        "    if y[0] == 'A':\n",
        "      zz= re.split('[ \\t]',y)\n",
        "      # print(zz)\n",
        "      a_list.append(zz)\n",
        " \n",
        "\n",
        "  for t in t_list:\n",
        "    for m in mention_list:\n",
        "      # print(m.term_id, t[0])\n",
        "      if (m.term_id == t[0]):\n",
        "        # print(\"assigning\")\n",
        "        # print(t)\n",
        "        \n",
        "        m.startchar = t[2]\n",
        "        m.endchar = t[1]\n",
        "        m.disposition = t[3]\n",
        "        m.medication = t[4]\n",
        "  \n",
        "  for a in a_list:\n",
        "    # print(a)\n",
        "    for m in mention_list:\n",
        "      if a[2]== m.event_id:\n",
        "        if a[1] == 'Action':\n",
        "          m.action= a[3]\n",
        "        elif a[1] == 'Temporality':\n",
        "          m.temporality= a[3]\n",
        "        elif a[1] == 'Certainity': \n",
        "          m.certainty= a[3] \n",
        "        elif a[1] == 'Actor':\n",
        "          m.actor= a[3]\n",
        "        elif a[1] == 'Negation':\n",
        "          m.negation= a[1]\n",
        "\n",
        "  return mention_list"
      ],
      "execution_count": null,
      "outputs": []
    },
    {
      "cell_type": "code",
      "metadata": {
        "id": "dmfHjL4kdchJ",
        "colab": {
          "base_uri": "https://localhost:8080/"
        },
        "outputId": "836f8dde-6242-48ee-b877-98d0dbbd7d2b"
      },
      "source": [
        "# parsing annotation file\n",
        "i=0\n",
        "text_repeats = []\n",
        "text_label=[]\n",
        "ann_list=[]\n",
        "full_df= pd.DataFrame()\n",
        "all_medication_mention_list =[]\n",
        "\n",
        "# ann_dict = parse_ann(train_annfile_list[1])\n",
        "for annfile in train_annfile_list:\n",
        "    temp_medmention= parse_ann(annfile)\n",
        "    all_medication_mention_list+= temp_medmention\n",
        "    \n",
        "    df=pd.DataFrame([o.__dict__ for o in temp_medmention])\n",
        "    text_repeats.append(len(temp_medmention))\n",
        "    df['docno']= list(np.repeat(i,df.shape[0]))\n",
        "    df['file_location'] = [train_textfile_list[i] for j in range(df.shape[0])]\n",
        "    full_df= pd.concat([full_df,df]).reset_index(drop=True)\n",
        "    \n",
        "    txt=mr_train[i]\n",
        "    # text_label.extend([txt,ann])\n",
        "    i+=1\n",
        "    \n",
        "# text_label[1]\n",
        "# ann_list[10]\n",
        "# full_df\n",
        "# full_df.to_csv(\"/content/drive/MyDrive/Dataset_pls/CMED21/train_set.csv\")\n",
        "print(len(text_repeats))\n",
        "print(full_df.shape)\n",
        "print(len(all_medication_mention_list))\n",
        "print(full_df.shape)\n",
        "print(full_df.head(2))"
      ],
      "execution_count": null,
      "outputs": [
        {
          "output_type": "stream",
          "text": [
            "400\n",
            "(7230, 13)\n",
            "7230\n",
            "(7230, 13)\n",
            "  term_id event_id  ... docno                                      file_location\n",
            "0      T1       E1  ...   0.0  /content/drive/MyDrive/Dataset_pls/CMED21/data...\n",
            "1      T2       E2  ...   0.0  /content/drive/MyDrive/Dataset_pls/CMED21/data...\n",
            "\n",
            "[2 rows x 13 columns]\n"
          ],
          "name": "stdout"
        }
      ]
    },
    {
      "cell_type": "code",
      "metadata": {
        "id": "RgbVe12UgJNV",
        "colab": {
          "base_uri": "https://localhost:8080/"
        },
        "outputId": "ddad1f0e-b41a-4720-f485-c3bb98a66666"
      },
      "source": [
        "print(full_df.shape)\n",
        "print(full_df.columns)\n",
        "j=0\n",
        "text_col=[]\n",
        "for text in mr_train:\n",
        "  for r in range(text_repeats[j]):\n",
        "    text_col.append(text)\n",
        "\n",
        "  j+=1\n",
        "print(len(text_col))\n",
        "full_df['text']= text_col\n",
        "print(full_df.head(5))\n",
        "full_df.to_csv(\"/content/drive/MyDrive/Dataset_pls/CMED21/train_set.csv\")"
      ],
      "execution_count": null,
      "outputs": [
        {
          "output_type": "stream",
          "text": [
            "(7230, 13)\n",
            "Index(['term_id', 'event_id', 'startchar', 'endchar', 'medication',\n",
            "       'disposition', 'action', 'temporality', 'certainty', 'actor',\n",
            "       'negation', 'docno', 'file_location'],\n",
            "      dtype='object')\n",
            "7230\n",
            "  term_id  ...                                               text\n",
            "0      T1  ...  \\n\\n\\nRecord date: 2106-02-12\\n\\nCampbell Orth...\n",
            "1      T2  ...  \\n\\n\\nRecord date: 2106-02-12\\n\\nCampbell Orth...\n",
            "2      T3  ...  \\n\\n\\nRecord date: 2106-02-12\\n\\nCampbell Orth...\n",
            "3      T4  ...  \\n\\n\\nRecord date: 2106-02-12\\n\\nCampbell Orth...\n",
            "4      T3  ...  \\n\\n\\nRecord date: 2109-09-14\\n\\n \\nSeptember ...\n",
            "\n",
            "[5 rows x 14 columns]\n"
          ],
          "name": "stdout"
        }
      ]
    },
    {
      "cell_type": "markdown",
      "metadata": {
        "id": "HJa9dY8OjdT2"
      },
      "source": [
        "Preprocessing Text"
      ]
    },
    {
      "cell_type": "code",
      "metadata": {
        "id": "AKjkQ6A78PP0",
        "colab": {
          "base_uri": "https://localhost:8080/",
          "height": 120
        },
        "outputId": "e7729687-38c3-42a2-ef34-09f0fdbd0f33"
      },
      "source": [
        "mr_train[16]"
      ],
      "execution_count": null,
      "outputs": [
        {
          "output_type": "execute_result",
          "data": {
            "application/vnd.google.colaboratory.intrinsic+json": {
              "type": "string"
            },
            "text/plain": [
              "\"\\n\\n\\nRecord date: 2100-04-27\\n\\n \\n\\nHAWTHORNE STATE HOSPITAL\\n\\nREDDING, LOUISIANA\\n\\n\\n\\nGI CONSULT NOTE\\n\\n4/28/2100\\n\\n\\n\\nPatient name: Oreilly, Gabrielle\\n\\nMRN: 9868572\\n\\nConsult Attending: Matthew Vieira\\n\\n\\n\\nReason for consult: BRBPR, some black stool\\n\\n\\n\\nHPI: The patient is a 76 year old female on chronic aspirin therapy, with distant history of PUD admit with three days of BRBPR.  Passed moderate volume of BRB into bowl, with some loose black stool at the bottom.  No tarry stool, mostly red.  Started to take peptobismol and from then on passed mostly red blood with some dark stool.  Two episodes each day since then.  Felt lightheaded the first day, none since.  Overall, feels weak, but not ill.  No abdominal pain or even significant cramping.  No epigastric discomfort.  No nausea, vomiting, fevers, chills.  No unusual ingestions or sick contacts.  Currently feels well, hungry.\\n\\n\\n\\nTakes aspirin daily, baby.  In past occasionally took NSAIDs for leg pain, none recently.  History of non-bleeding gastric ulcers - three on imaging study - presented with excess gas, managed medically.  Colonoscopy seven years ago with two small polyps, one retrieved, path below, not adenomas.  No rectal bleeding since.  Does have hemorrhoids.  \\n\\n\\n\\nAppetite good, weight stable.  No FH of GI malignancy.\\n\\n\\n\\nPMH:\\n\\nGastric ulcer : 2060's, no recurrence\\n\\nPFT's mild obstructive disease\\n\\nHypertension\\n\\nPeripheral neuropathy\\n\\nHypothyroidism s/p surgery for goiter\\n\\n\\n\\nMEDS:\\n\\nAsa (ACETYLSALICYLIC ACID) 81MG TABLET PO QD \\n\\nAlbuterol INHALER 2 PUFF INH QID PRN shortness of breath \\n\\nPremarin (CONJUGATED ESTROGENS) 0.3MG TABLET take 1 Tablet(s) PO QOD , Take one tablet every other \\n\\nCelexa (CITALOPRAM) 40MG TABLET take 1 Tablet(s) PO QD \\n\\nFlonase (FLUTICASONE NASAL SPRAY) 1-2 SPRAY NAS QD , taper to lowest effective dose\\n\\nHctz (HYDROCHLOROTHIAZIDE) 50MG TABLET take 1 Tablet(s) PO QD \\n\\nLipitor (ATORVASTATIN) 10MG TABLET take 1 Tablet(s) PO QD \\n\\nSynthroid (LEVOTHYROXINE SODIUM) 25MCG TABLET take 1 Tablet(s) PO QD \\n\\nK-dur (KCL SLOW REL.) 10MEQ TABLET CR take 1 Tablet(s) PO QD , Take as directed \\n\\nLisinopril 30MG TABLET PO QD , this replaces prior dose \\n\\n\\n\\nALL: Halothane Gas - Hepatoxicity : liver \\n\\nSH: Lives alone, adult children, widowed.  No regular ETOH\\n\\nFH: no FH GI malignancy\\n\\n\\n\\nPE:\\n\\nVS: 98, afebrile ever since admission, 68   145/69, 94% RA\\n\\nGen: appears well, but fatigued\\n\\nHeent: anicteric, OP clear\\n\\nChest: CTA B\\n\\nCor: RRR nl s1 s2, no mu\\n\\nAbd: soft, NT, ND, nl BS.  Medium sized umbilical hernia, nontender, reducible.  RUQ scar\\n\\nRectal: hemorrhoids, red tinged liquid stool s/p prep\\n\\n\\n\\nLABS:\\n\\nDate/Time         NA             K              CL             CO2            \\n\\n04/27/2100        138            4.5            107            26.6                    \\n\\n\\n\\nDate/Time         BUN            CRE            GLU            \\n\\n04/27/2100        40 (H)         1.1            127 (H)        \\n\\n04/27/2100        38 (H)         1.0            147 (H)        \\n\\n\\n\\nDate/Time         CA             PHOS           MG             TBILI          \\n\\n04/27/2100        9.1            2.8            1.9            0.5                     \\n\\n\\n\\nDate/Time         DBILI          TP             ALB            GLOB           \\n\\n04/27/2100        0.2            7.2            3.9            3.3                       \\n\\n\\n\\nDate/Time         AMY            LIPS           \\n\\n04/27/2100        32             3.7            \\n\\n\\n\\nDate/Time         ALT/SGPT       AST/SGOT       ALKP           TBILI          \\n\\n04/27/2100        19             23             48             0.5                       \\n\\n\\n\\nDate/Time         DBILI          \\n\\n04/27/2100        0.2    \\n\\n\\n\\nDate/Time         WBC            RBC            HGB            HCT            \\n\\n04/28/2100        15.3 (H)       2.90 (L)       9.2 (L)        27.7 (L)       \\n\\n04/28/2100        17.5 (H)       2.90 (L)       9.4 (L)        27.9 (L)       \\n\\n04/27/2100        18.9 (H)       3.34 (L)       10.5 (L)       32.2 (L)       \\n\\n04/27/2100        11.8 (H)       3.31 (L)       10.6 (L)       31.4 (L)       \\n\\n04/27/2100        11.7 (H)       3.42 (L)       10.8 (L)       32.5 (L)  \\n\\n\\n\\nDate/Time         HCT                  \\n\\n03/29/2095        43.1             \\n\\n\\n\\nDate/Time         MCV            MCH            MCHC           PLT            \\n\\n04/28/2100        96             31.8           33.2           282                     \\n\\n\\n\\nDate/Time         RDW            \\n\\n04/28/2100        13.7                     \\n\\n        \\n\\nDate/Time         MCV            MCH            MCHC           PLT            \\n\\n04/27/2100        95             31.9           33.6           292                       \\n\\n\\n\\nDate/Time         RDW            \\n\\n04/27/2100        14.1                  \\n\\n\\n\\nDate/Time         PT             PTT            \\n\\n04/27/2100        13.7 (H)       22.7           \\n\\n\\n\\nDate/Time         HPYAB          \\n\\n04/05/2094        POSITIVE [1]   \\n\\n08/05/2092        POSITIVE [2]   \\n\\n\\n\\nCOLONOSCOPY -  3/31/93 10:00:00 AM\\n\\n              One sessile polyp with no bleeding was found in the\\n\\n              transverse colon.  The polyp was three mm in size.\\n\\n              Polypectomy was performed with a cold snare.  Resection\\n\\n              was complete.  Retrieval was not done.\\n\\n              One sessile polyp with no bleeding was found in the\\n\\n              transverse colon.  The polyp was three mm in size.\\n\\n              Polypectomy was performed with a cold snare.  Resection\\n\\n              was complete.  Retrieval was complete.\\n\\n              Hemorrhoids with no bleeding were found.\\n\\n              A few diverticula were found in the sigmoid colon and in the\\n\\n              hepatic flexure.\\n\\nImpression:   1) Single polyp - three mm.  Complete removal was accomplished.\\n\\n              3) Hemorrhoids.\\n\\n              4) Diverticulosis.\\n\\n\\n\\n     COLON (TRANSVERSE), POLYPECTOMY:\\n\\n         LOCALIZED AREA OF MILD ACUTE INFLAMMATION WITH CRYPTITIS,\\n\\n         DYSTROPHIC GOBLET CELLS IN CRYPTS, AND RARE METAPLASTIC PANETH\\n\\n         CELLS.\\n\\n\\n\\nASSESSMENT AND PLAN:\\n\\n76 year old female with three days of painless BRBPR, also reports of black stool, history of PUD.  Source of bleeding not clear.  Pattern most typical of LGIB, likely diverticular with significant decline in hematocrit, painless, moderate volume BRBPR.  Agree no real pain for ischemic colitis, though wbc elevated.  No fevers, chills, other GI symptoms or exposure for infectious colitis.  Given black stools, aspirin use, history of PUD, upper bleed also possible, though presentation with red blood and hemodynamic stability atypical for this.  Given insecurity in type of bleed, agree with both EGD and colonoscopy.  \\n\\n\\n\\nEGD and colonoscopy this morning\\n\\nHold aspirin\\n\\nContinue QD PPI\\n\\nIf hematocrit drops further, would transfuse 1-2 units to hct of 28-30\\n\\n\\n\\nWhitney Short, MD\\n\\nGI Fellow\\n\\nPage 67094\\n\\n\\n\\n\\n\\n\\n\\n\\n\\n\\n\\n                   \\n\\n\\n\\n\\n\\n\\n\\n\\n\\n\\n\\n\\n\\n\\n\\n\\n\\n\\n\\n      \\n\\n\\n\\n\""
            ]
          },
          "metadata": {
            "tags": []
          },
          "execution_count": 29
        }
      ]
    },
    {
      "cell_type": "code",
      "metadata": {
        "id": "eqhpq3HHQrJN",
        "colab": {
          "base_uri": "https://localhost:8080/"
        },
        "outputId": "b118b316-cb79-4d52-9e16-d3161f91f854"
      },
      "source": [
        "# extract only the n characters on the either side of the medication occurance\n",
        "spans= []\n",
        "starts= list(full_df['startchar'])\n",
        "ends= list(full_df['endchar'])\n",
        "# print(starts)\n",
        "context_window_chars = 200\n",
        "\n",
        "for i in range(len(starts)):\n",
        "  txt= full_df.iloc[i]['text']\n",
        "  if int(starts[i]) <200:\n",
        "    start= 0\n",
        "  else:\n",
        "    start = int(starts[i]) - context_window_chars\n",
        "  # print(i)\n",
        "  if int(ends[i]) == len(txt):\n",
        "    end= len(txt)\n",
        "  else:  \n",
        "    end= int(ends[i]) + context_window_chars\n",
        "  \n",
        "  #preprocessing text\n",
        "  txt= txt.strip()\n",
        "  txt = txt.replace('\\n',' ')\n",
        "\n",
        "  #extracting span\n",
        "  x= txt[start:end]\n",
        "  spans.append(x) \n",
        "\n",
        "# print(i)\n",
        "print(len(spans))\n",
        "full_df['spans']= spans"
      ],
      "execution_count": null,
      "outputs": [
        {
          "output_type": "stream",
          "text": [
            "7230\n"
          ],
          "name": "stdout"
        }
      ]
    },
    {
      "cell_type": "code",
      "metadata": {
        "id": "ugRvM3CZMq-J",
        "colab": {
          "base_uri": "https://localhost:8080/"
        },
        "outputId": "4c62dc2b-acc8-4414-c389-b04772a79557"
      },
      "source": [
        "print(full_df['spans'][1],'\\n', full_df['medication'][1])"
      ],
      "execution_count": null,
      "outputs": [
        {
          "output_type": "stream",
          "text": [
            "ring, and he is using a cane.  He is here for routine follow-up.  Past medical history is notable for no ankle injuries previously.  He has a history of diabetes and sleep apnea.  He takes Prozac, Cardizem, Glucophage and Amaryl.  He is also followed by Dr. Harold Nutter for an arrhythmia.  He does not smoke.  He drinks minimally.  He is a set designer at Columbia Pictures.   On examination today he has s \n",
            " Cardizem\n"
          ],
          "name": "stdout"
        }
      ]
    },
    {
      "cell_type": "code",
      "metadata": {
        "id": "HvcmDSegY87I"
      },
      "source": [
        "full_df.to_csv(\"/content/drive/MyDrive/Dataset_pls/CMED21/data/data_with_spans.csv\")"
      ],
      "execution_count": null,
      "outputs": []
    },
    {
      "cell_type": "markdown",
      "metadata": {
        "id": "pfyUB5g2qMYi"
      },
      "source": [
        "Sentence based extraction"
      ]
    },
    {
      "cell_type": "code",
      "metadata": {
        "id": "ZWqwHkBpjblL",
        "colab": {
          "base_uri": "https://localhost:8080/",
          "height": 224
        },
        "outputId": "5f5dc283-d606-4a8f-9114-4c1744ff1e9c"
      },
      "source": [
        "import nltk\n",
        "nltk.download('punkt')\n",
        "j=16\n",
        "sentences = nltk.sent_tokenize(full_df['text'][j])\n",
        "disposition_indices= []\n",
        "for i in range(full_df.shape[0]):\n",
        "  if full_df['disposition'][i] ==\"Disposition\" :\n",
        "    disposition_indices.append(i)\n",
        "print(disposition_indices)\n",
        "print(full_df['medication'][j],full_df['disposition'][j],full_df['startchar'][j],full_df['endchar'][j],full_df['docno'][j],full_df['file_location'][j])\n",
        "\n",
        "# sentences\n",
        "sum=0\n",
        "mr_train[2][9664:9666]\n",
        "lengths = [len(x) for x in sentences]\n",
        "for i,x in enumerate(lengths):\n",
        "  sum= sum+x+1\n",
        "  if sum>9664:\n",
        "    print(i)\n",
        "    break\n",
        "# sentences\n",
        "mr_train[2]"
      ],
      "execution_count": null,
      "outputs": [
        {
          "output_type": "stream",
          "text": [
            "[nltk_data] Downloading package punkt to /root/nltk_data...\n",
            "[nltk_data]   Unzipping tokenizers/punkt.zip.\n",
            "[12, 16, 22, 23, 25, 50, 51, 52, 53, 54, 55, 56, 63, 71, 77, 78, 104, 105, 107, 108, 109, 117, 118, 119, 121, 126, 127, 128, 130, 136, 146, 176, 177, 179, 180, 183, 200, 201, 202, 203, 204, 205, 206, 207, 260, 261, 287, 302, 314, 316, 332, 333, 370, 371, 372, 373, 374, 375, 377, 378, 381, 382, 383, 385, 395, 397, 406, 407, 408, 411, 416, 419, 421, 443, 454, 455, 456, 463, 464, 467, 468, 470, 471, 472, 474, 475, 477, 478, 495, 502, 505, 517, 518, 519, 522, 538, 539, 541, 557, 560, 562, 564, 565, 568, 569, 573, 583, 594, 595, 596, 597, 598, 599, 603, 604, 622, 623, 625, 626, 628, 694, 706, 707, 708, 709, 710, 717, 718, 719, 720, 730, 731, 732, 733, 734, 735, 736, 737, 741, 742, 743, 744, 748, 749, 750, 751, 752, 753, 754, 755, 757, 758, 759, 773, 796, 797, 814, 815, 830, 831, 832, 833, 834, 835, 874, 878, 879, 880, 900, 902, 913, 916, 926, 939, 940, 943, 948, 960, 961, 989, 990, 995, 996, 1013, 1014, 1017, 1018, 1019, 1020, 1021, 1024, 1033, 1034, 1040, 1041, 1042, 1046, 1065, 1066, 1067, 1069, 1073, 1082, 1088, 1089, 1090, 1091, 1092, 1093, 1094, 1102, 1107, 1108, 1127, 1128, 1136, 1137, 1138, 1139, 1172, 1176, 1186, 1188, 1189, 1190, 1191, 1192, 1193, 1194, 1217, 1219, 1220, 1237, 1238, 1239, 1240, 1241, 1243, 1244, 1248, 1249, 1253, 1254, 1257, 1258, 1267, 1268, 1277, 1278, 1289, 1291, 1293, 1294, 1297, 1298, 1305, 1306, 1307, 1308, 1309, 1311, 1312, 1323, 1324, 1325, 1326, 1340, 1341, 1342, 1344, 1365, 1366, 1367, 1368, 1369, 1372, 1374, 1387, 1394, 1395, 1396, 1399, 1400, 1401, 1409, 1410, 1411, 1416, 1418, 1421, 1424, 1426, 1427, 1439, 1444, 1446, 1447, 1451, 1452, 1453, 1464, 1475, 1476, 1477, 1488, 1492, 1496, 1501, 1503, 1505, 1506, 1507, 1508, 1509, 1520, 1521, 1522, 1527, 1528, 1539, 1543, 1544, 1545, 1546, 1547, 1561, 1562, 1577, 1609, 1610, 1612, 1613, 1614, 1615, 1616, 1617, 1618, 1619, 1622, 1623, 1624, 1625, 1629, 1630, 1631, 1636, 1642, 1649, 1650, 1653, 1665, 1668, 1676, 1677, 1680, 1681, 1682, 1683, 1684, 1685, 1710, 1719, 1720, 1723, 1742, 1749, 1750, 1751, 1752, 1783, 1784, 1785, 1791, 1792, 1793, 1796, 1817, 1824, 1844, 1851, 1863, 1864, 1869, 1870, 1878, 1886, 1887, 1888, 1889, 1905, 1906, 1907, 1911, 1912, 1913, 1920, 1921, 1937, 1939, 1948, 1958, 1960, 1961, 1962, 1963, 1981, 1999, 2005, 2017, 2018, 2021, 2035, 2038, 2039, 2040, 2041, 2042, 2052, 2056, 2057, 2079, 2081, 2083, 2084, 2085, 2086, 2087, 2088, 2098, 2099, 2102, 2103, 2113, 2115, 2120, 2126, 2129, 2130, 2132, 2133, 2145, 2146, 2153, 2154, 2164, 2165, 2167, 2171, 2172, 2173, 2174, 2175, 2195, 2196, 2197, 2209, 2215, 2294, 2295, 2298, 2299, 2313, 2317, 2318, 2319, 2335, 2337, 2350, 2351, 2354, 2355, 2356, 2357, 2386, 2388, 2389, 2391, 2397, 2399, 2400, 2402, 2403, 2404, 2405, 2421, 2422, 2443, 2446, 2447, 2451, 2452, 2453, 2454, 2466, 2477, 2478, 2479, 2494, 2495, 2497, 2498, 2505, 2506, 2507, 2508, 2511, 2513, 2514, 2518, 2519, 2520, 2521, 2536, 2537, 2539, 2540, 2545, 2548, 2549, 2550, 2551, 2552, 2559, 2560, 2561, 2562, 2565, 2577, 2578, 2579, 2580, 2581, 2583, 2596, 2597, 2598, 2599, 2601, 2603, 2608, 2624, 2640, 2653, 2654, 2660, 2669, 2671, 2673, 2676, 2677, 2678, 2679, 2680, 2681, 2682, 2684, 2687, 2702, 2716, 2718, 2719, 2723, 2729, 2730, 2731, 2735, 2736, 2737, 2738, 2746, 2748, 2749, 2768, 2783, 2784, 2785, 2798, 2803, 2804, 2806, 2823, 2824, 2825, 2855, 2880, 2881, 2882, 2889, 2891, 2892, 2894, 2896, 2897, 2899, 2900, 2903, 2917, 2918, 2920, 2921, 2923, 2939, 2943, 2953, 2954, 2957, 2959, 2960, 2965, 2966, 2967, 2997, 2998, 2999, 3001, 3002, 3003, 3004, 3017, 3024, 3025, 3032, 3037, 3047, 3048, 3049, 3055, 3058, 3075, 3076, 3095, 3096, 3097, 3098, 3099, 3100, 3115, 3140, 3145, 3146, 3166, 3175, 3176, 3177, 3178, 3179, 3189, 3201, 3223, 3224, 3229, 3301, 3308, 3319, 3326, 3332, 3349, 3350, 3386, 3387, 3388, 3390, 3393, 3394, 3395, 3406, 3419, 3441, 3442, 3443, 3444, 3467, 3468, 3469, 3493, 3494, 3498, 3499, 3506, 3507, 3508, 3509, 3510, 3511, 3512, 3523, 3528, 3530, 3532, 3533, 3535, 3536, 3538, 3541, 3553, 3572, 3573, 3596, 3599, 3607, 3608, 3609, 3610, 3613, 3616, 3617, 3618, 3621, 3637, 3651, 3656, 3678, 3680, 3697, 3722, 3728, 3741, 3742, 3744, 3769, 3770, 3797, 3805, 3816, 3829, 3830, 3831, 3832, 3833, 3834, 3835, 3838, 3839, 3840, 3845, 3846, 3847, 3848, 3849, 3855, 3856, 3858, 3859, 3863, 3883, 3897, 3898, 3903, 3904, 3920, 3921, 3922, 3925, 3927, 3929, 3930, 3931, 3940, 3941, 3942, 3943, 3944, 3945, 3946, 3954, 3958, 3969, 3971, 3972, 3973, 3975, 3976, 3977, 3980, 4010, 4025, 4026, 4027, 4028, 4029, 4030, 4043, 4044, 4046, 4049, 4050, 4053, 4055, 4057, 4058, 4059, 4062, 4063, 4064, 4065, 4074, 4077, 4118, 4121, 4122, 4123, 4140, 4155, 4156, 4157, 4158, 4177, 4187, 4210, 4211, 4212, 4216, 4221, 4228, 4229, 4236, 4237, 4238, 4258, 4270, 4271, 4272, 4278, 4279, 4280, 4281, 4300, 4301, 4304, 4305, 4307, 4312, 4316, 4317, 4336, 4344, 4346, 4347, 4349, 4351, 4353, 4354, 4355, 4372, 4380, 4383, 4406, 4416, 4435, 4436, 4437, 4440, 4446, 4447, 4458, 4459, 4460, 4461, 4462, 4463, 4464, 4465, 4466, 4487, 4488, 4489, 4490, 4493, 4496, 4497, 4506, 4511, 4514, 4516, 4569, 4570, 4571, 4574, 4576, 4578, 4579, 4588, 4589, 4590, 4591, 4592, 4593, 4594, 4602, 4603, 4614, 4615, 4616, 4625, 4632, 4633, 4634, 4650, 4656, 4657, 4671, 4672, 4673, 4674, 4675, 4676, 4688, 4690, 4716, 4717, 4718, 4719, 4720, 4721, 4722, 4723, 4724, 4725, 4733, 4734, 4744, 4745, 4770, 4771, 4780, 4783, 4784, 4785, 4786, 4792, 4793, 4794, 4795, 4796, 4805, 4806, 4807, 4808, 4809, 4810, 4811, 4812, 4814, 4815, 4817, 4818, 4821, 4832, 4833, 4834, 4835, 4837, 4844, 4852, 4853, 4854, 4858, 4859, 4869, 4877, 4879, 4880, 4883, 4884, 4885, 4895, 4896, 4897, 4898, 4899, 4910, 4914, 4915, 4927, 4936, 4939, 4943, 4955, 4958, 4960, 4961, 4962, 4964, 4965, 4967, 4970, 4976, 4984, 4986, 4990, 5003, 5025, 5043, 5044, 5069, 5070, 5071, 5072, 5083, 5084, 5092, 5094, 5095, 5096, 5104, 5105, 5125, 5126, 5127, 5128, 5129, 5142, 5144, 5145, 5148, 5170, 5171, 5183, 5184, 5192, 5203, 5204, 5205, 5209, 5211, 5214, 5215, 5217, 5218, 5219, 5220, 5221, 5223, 5235, 5237, 5242, 5243, 5244, 5245, 5246, 5247, 5252, 5284, 5285, 5286, 5287, 5288, 5289, 5290, 5291, 5292, 5294, 5295, 5300, 5303, 5304, 5306, 5307, 5309, 5315, 5324, 5325, 5332, 5333, 5334, 5335, 5344, 5345, 5360, 5362, 5383, 5384, 5395, 5445, 5450, 5453, 5471, 5472, 5477, 5487, 5493, 5506, 5507, 5508, 5509, 5510, 5511, 5512, 5513, 5514, 5515, 5516, 5517, 5518, 5519, 5520, 5535, 5536, 5538, 5540, 5541, 5542, 5543, 5544, 5560, 5561, 5579, 5580, 5581, 5605, 5606, 5607, 5627, 5628, 5629, 5630, 5631, 5632, 5633, 5640, 5651, 5653, 5654, 5655, 5656, 5657, 5658, 5661, 5662, 5669, 5682, 5694, 5698, 5700, 5701, 5702, 5704, 5705, 5712, 5726, 5727, 5728, 5729, 5731, 5754, 5788, 5790, 5791, 5807, 5808, 5809, 5810, 5811, 5812, 5814, 5846, 5850, 5852, 5854, 5855, 5856, 5858, 5859, 5865, 5866, 5871, 5873, 5875, 5881, 5922, 5923, 5924, 5927, 5929, 5931, 5938, 5955, 5958, 5959, 5960, 5972, 5973, 5974, 5976, 5977, 5979, 5980, 5981, 5982, 5983, 6006, 6007, 6008, 6009, 6010, 6016, 6017, 6018, 6019, 6022, 6023, 6024, 6025, 6027, 6028, 6029, 6032, 6036, 6040, 6048, 6049, 6050, 6051, 6068, 6069, 6070, 6073, 6075, 6078, 6095, 6104, 6105, 6130, 6135, 6143, 6144, 6145, 6159, 6164, 6165, 6166, 6168, 6177, 6184, 6186, 6187, 6188, 6189, 6191, 6217, 6231, 6234, 6246, 6247, 6248, 6249, 6266, 6289, 6300, 6304, 6305, 6307, 6308, 6309, 6310, 6349, 6350, 6351, 6352, 6363, 6368, 6370, 6383, 6384, 6385, 6390, 6397, 6398, 6430, 6445, 6447, 6470, 6471, 6473, 6475, 6504, 6528, 6529, 6531, 6533, 6552, 6565, 6574, 6575, 6576, 6577, 6578, 6584, 6594, 6606, 6607, 6608, 6609, 6620, 6621, 6635, 6645, 6674, 6675, 6681, 6682, 6683, 6700, 6703, 6723, 6739, 6742, 6759, 6760, 6761, 6763, 6790, 6791, 6804, 6805, 6806, 6808, 6813, 6819, 6826, 6827, 6828, 6829, 6845, 6846, 6858, 6859, 6871, 6872, 6876, 6877, 6891, 6892, 6911, 6919, 6920, 6926, 6927, 6928, 6929, 6930, 6931, 6932, 6933, 6934, 6937, 6940, 6941, 6944, 6954, 6965, 6967, 6968, 6969, 6971, 6989, 6990, 6991, 6992, 6995, 6997, 6998, 7002, 7003, 7010, 7011, 7012, 7014, 7016, 7017, 7043, 7052, 7053, 7054, 7073, 7076, 7083, 7084, 7095, 7104, 7105, 7121, 7125, 7126, 7136, 7137, 7138, 7139, 7141, 7142, 7144, 7145, 7164, 7165, 7167, 7170, 7171, 7173, 7174, 7175, 7181, 7182, 7197, 7202, 7205, 7206, 7207, 7208, 7209, 7210, 7211, 7212, 7228]\n",
            "O2 Disposition 9664 9666 2.0 /content/drive/MyDrive/Dataset_pls/CMED21/data/train/100-03.txt\n",
            "81\n"
          ],
          "name": "stdout"
        },
        {
          "output_type": "execute_result",
          "data": {
            "application/vnd.google.colaboratory.intrinsic+json": {
              "type": "string"
            },
            "text/plain": [
              "'\\n\\n\\nRecord date: 2109-09-14\\n\\n \\nSeptember 14, 2109 \\n \\nVicente Blair, M.D.  \\nInternal Medical \\nDoctors Hospital North \\nOmak, Georgia 72196 \\n \\nRE: VALDEZ, Harlan \\nDHN#: 7672624 \\nDATE OF BIRTH: 11/09/2062 \\nCURRENT CLINIC VISIT DATE: 09/14/2109 \\n \\nDear Vicente, \\n \\nThank you in advance for allowing me to share in the medical care of Mr. Harlan B. Valdez, a 46-year-old male patient with prior polysomnographic evidence of sleep disordered breathing, as well as a history of difficulty in sleep, reinitiation and maintenance and increased early morning awakenings, as well as mixed systemic medical conditions.  \\n \\nHISTORY OF PRESENT ILLNESS: As you already know, Mr. Valdez who demonstrates a history of difficulties of sleep reinitiation and maintenance, as well as increased early morning awakenings, has noted an exacerbation of these sleep difficulties, occurring in temporal association with his loss of his wife from pancreatic cancer last year. He is now placed in the unfortunate situation of being a single parent to a 15-year-old son and a 10-year-old daughter and describes a modification of his current employment duties of a set designer. In particular, Mr. Valdez describes undergoing on frequent international travelling which has bee markedly curtailed as he is tending to his family situation closer to home.  \\n \\nHe described a history of intermittent snoring symptomatology but is unaware of specific nocturnal respiratory pauses. He is unaware of a \"restless\" lower limb sensory complaints which may impact on his ability to initiate or reinitiate sleep. He denies a history of a \" night owl\" personality or circadian rhythm dysfunction which may have played a role with respect to nocturnal sleep disruptions or sleep difficulties.   \\nHe denies a history of paroxysmal abnormal disturbances or associated narcoleptic symptoms.  \\n \\nMr. Valdez underwent an initial formal polysomnographic evaluation at the center for sleep diagnostics at Holy Cross on 11/26/05, during which time he was noted to demonstrate a respiratory disturbance index of 81/hour, particularly exacerbated in the supine position and characterized predominantly by hypopneas, with equal distribution during non-REM and stage REM sleep and with associated O2 desaturation Nadir of 88% The respiratory disturbances were predominantly obstructive or mixed hypopneas. In addition, loud snoring was noted.  \\n \\nThere was evidence of a sleep efficiency of 88% and a short sleep onset latency of 4 minutes. There was a predominance of \"light\" non-REM stages I-II sleep, and a concomitant inability to achieve significant \"slow-wave\" or stage REM sleep. There was also \"alpha intrusions and alpha delta sleep\" evident during the initial sleep study. In addition premature ventricular contractions were noted.  \\n \\nThe patient underwent a CPAP titration on 01/15/06, also at the Tenacre Foundation Nursing Home in Boxborough, during which time there was a marked reduction in the frequency of hypopneas (respiratory disturbance index equals 2/hour) with CPAP titrations between 4-6 cm. Sleep efficiency improved to 91%, a short sleep onset latency was also noted (3 minutes). There was once again an increased predominance of \"light\" non-REM stage I-II sleep, with concomitant inability to achieve sustained \"slow wave sleep\".  \\n \\nSince his initial trial of nocturnal CPAP titration (at 6 cm of water pressure) and with various CPAP mask modifications (including CPAP nasal face mask and a Mallinckrodt \"Breeze\" supportive head gear with \"nasal pillows\". The patient describes associated claustrophobic symptomatology, relative difficulties with sustained nocturnal home CPAP use, and difficulties with regards to CPAP to being and complications by the bulkiness of the CPAP machine in general. As a result, he has not utilized nocturnal CPAP therapy for a period of time, although he still maintains the CPAP equipment in his house.  \\n \\nOf particular note, and exacerbation of the past year, the patient demonstrates increased early morning awakenings (averaging 2-4 in number) with typical awakenings occurring approximately two hours after sleep initiation at 9:30 p.m. (the patient describes one awakening at 11:30 p.m. and the second awakening at 11:45 a.m., of unclear causative etiology). The patient then might awaken at 3 a.m. and be \"ready for the day\".  If he is able to reinitiate sleep thereafter, the patient may demonstrate additional two early morning awakenings after a final awakening at 6 a.m.  \\n \\nThe patient is noted to have a history of mixed systemic conditions including diabetes, coronary artery disease, depressive disorder, as well as a relatively stable gastrointestinal condition, with no upper GI evidence of gastroparesis.  \\n \\nMEDICATIONS:  \\n1. Provigil 200 mg p.o. q. a.m. PRN.  \\n2. Lithium.  \\n3. Valproate.  \\n4. Glucophage 850 mg t.i.d.  \\n5. Humulin 15 units at night.  \\n6. Folate.  \\n7. Metoprolol.  \\n8. Cardia.  \\n9. Vitamin E.  \\n10. Coated aspirin.  \\n \\nALLERGIES/ADVERSE REACTIONS: The patient describes an enhancement to suicidal tendencies in association with prior Prozac usage.   \\nSOCIAL HISTORY: The patient denies active tobacco or alcoholic beverage usage. He has lost 15-20 pounds over the past several years. His current weight is 195 pounds. He is desirous of losing some additional weight with regards to more regular exercise, but his hectic social situation makes this somewhat difficult at the present time.  \\n \\nOn examination, the patient demonstrates a blood pressure of 146/88, (seated, left arm), respiratory rate 16.  \\n \\nHEENT EXAMINATION: Borderline small posterior oropharyngeal aperture, with slightly increased redundant tissue evident posteriorly and a slightly elongated uvula noted.  \\n \\nThe patient appears awake, alert, with speech clear and fluent and receptive language function essentially intact. He is presently wearing dental braces. No obvious cranial nerve deficits are appreciated. No focal, sensory, motor or neurologic deficits are noted. No significant appendicular dystaxias or dysmetrias are currently in evidence. The routine gait appears to be normal based, without evidence of significant gait dystaxias.  No current clinical ictal manifestations are present. No acute evidence of \"micro-sleeps\" are noted.  \\n \\nIMPRESSION:  \\n1. Sleep stage/arrousal dysfunction (780.56): Manifested by subjective complaints of nonrestorative sleep, increased daytime fatigue and alternating hypersomnia, and recurrent polysomnographic evidence of \"lightened\" sleep pattern, with increased predominance of non-REM stages 1-2 sleep, and with the presence of \"alpha\" intrusions and \"alpha delta\" component to deeper sleep. These latter EEG findings have been described in association with subjective complaints of nonrestorative sleep, as well as clinical setting of chronic pain related complaints, depressive or anxiety disorder or intercurrent psychotropics agents used (but more usually associated with benzodiazepine or barbituate usage).  \\n2. Sleep disordered breathing: As evidenced during prior polysomnographic evaluations, mostly of obstructive and or mixed hypopnea. The patient appears largely refractory to a trial of CPAP therapy, particularly in so far as he demonstrates associated claustrophobic symptoms in association with it\\'s usage, despite relatively modest CPAP water pressures (6 cm). In addition, he has tried various nasal CPAP face mask, including the Mallinckrodt \"Breeze\" supportive head gear with \"nasal pillows\" and with limited success. One might consider repeating a polysomnographic evaluation in the future, and if so, utilizing a potential trial of BIPAP titration, which may help to improve claustrophobic symptoms, but the patient will still be left with the issues referable to \"tangled tubing at night\" and issues referable to nasal face mask usage, as noted above.  3. Relative difficulties in sleep reinitiation and maintenance:  The patient describes at least 2-4 early morning awakenings with difficulty in sleep reinitiation and maintenance, thereby compounding his current sleep problem. While there would logically be a relationship between his current sleep exacerbations and the recent death of his wife from pancreatic cancer last year, there may also be evidence of other nocturnal sleep disturbances for which a repeat polysomnographic evaluation; i.e. in particular looking for the presence of increased spontaneous arousals or limb associated arousals or periodic limb movements of sleep may be of a special clinical benefit.  \\n \\nPLAN:  \\n1. In the short course, in so far as the patient describes himself as being exceedingly tired, and unable to perform the routine daily tasks of work and managing a family in the absence of his deceased wife, I have suggested initiation of PRN Zolpidem tartrate therapy, 5 mg tablets, utilizing one to two tablets p.o.  q. h.s. PRN for difficulties of sleep reinitiation and maintenance.  \\n2. The patient is advised to take Zolpidem tartrate therapy no more than 2-3 times per week, in an effort to avoid any issues of physiologic dependency.  \\n3. The patient was advised against potential adverse behavioral and or systemic side effects of Zolpidem tartrate therapy including  hypersomnolence, gastric upset, loose stools, diarrhea, and or cardiac palpitations.  \\nPending his clinical response of his Zolpidem tartrate therapy, I then might seek direct treatment for his sleep disordered breathing issues which may include a repeat sleep study with potential trial of BIPAP therapy (in an effort to modify or attenuate claustrophobic symptoms). If he proves poorly responsive to trial of BIPAP therapy however, I might consider supplemental O2 therapy at night and, with this in mind a follow up sleep study should have associated end-tidal CO2 monitoring as well.  \\n4. In the meantime, the patient was advised to contact the sleep disorders clinic for any acute sleep related concerns in the interim.  \\n5. The patient may also benefit from nonpharmacologic approaches with regards to sleep reinitiation such as hypnotherapy, but I will hold off on these strategies pending follow up sleep disorders clinic evaluation (in approximately four months time).   \\nOnce again, thank you again for allowing me to share in the medical care of Mr. Harlan Valdez. I hope this letter finds you well.  \\n \\nSincerely yours, \\n \\n \\nYovani Vergara, M.D.  \\nSleep Clinic \\nDoctors Hospital North \\n \\n \\ncc: Sleep Clinic DHN \\n \\nDD:09/14/2109 \\nDT:09/15/2109 \\nTX:24217     :1991 \\n \\n\\n\\n\\n\\n'"
            ]
          },
          "metadata": {
            "tags": []
          },
          "execution_count": 33
        }
      ]
    },
    {
      "cell_type": "code",
      "metadata": {
        "id": "WA0f4NaTBa9A",
        "colab": {
          "base_uri": "https://localhost:8080/",
          "height": 72
        },
        "outputId": "4148a950-6ff7-4474-a7ce-282d95dda551"
      },
      "source": [
        "print(sentences[i])\n",
        "mr_train[2][9650:9675]"
      ],
      "execution_count": null,
      "outputs": [
        {
          "output_type": "stream",
          "text": [
            "If he proves poorly responsive to trial of BIPAP therapy however, I might consider supplemental O2 therapy at night and, with this in mind a follow up sleep study should have associated end-tidal CO2 monitoring as well.\n"
          ],
          "name": "stdout"
        },
        {
          "output_type": "execute_result",
          "data": {
            "application/vnd.google.colaboratory.intrinsic+json": {
              "type": "string"
            },
            "text/plain": [
              "' supplemental O2 therapy '"
            ]
          },
          "metadata": {
            "tags": []
          },
          "execution_count": 34
        }
      ]
    },
    {
      "cell_type": "code",
      "metadata": {
        "id": "u8W_3ct6kKgF",
        "colab": {
          "base_uri": "https://localhost:8080/"
        },
        "outputId": "8b049d54-54be-42ae-ed27-0c9852de1a23"
      },
      "source": [
        "type(list(full_df['spans']))"
      ],
      "execution_count": null,
      "outputs": [
        {
          "output_type": "execute_result",
          "data": {
            "text/plain": [
              "list"
            ]
          },
          "metadata": {
            "tags": []
          },
          "execution_count": 35
        }
      ]
    },
    {
      "cell_type": "markdown",
      "metadata": {
        "id": "AUlhYMChG8VF"
      },
      "source": [
        "Text Preprocessing\n",
        "- Remove all white spaces\n",
        "- Tokenize with Clinical BERT\n",
        "- Embeddings with Clinical BERT\n"
      ]
    },
    {
      "cell_type": "code",
      "metadata": {
        "id": "X1kcrVHd28-N"
      },
      "source": [
        "# Clinical BERT\n",
        "%%capture\n",
        "!pip install git+https://github.com/huggingface/transformers\n",
        "from transformers import AutoTokenizer, AutoModel\n",
        "tokenizer = AutoTokenizer.from_pretrained(\"emilyalsentzer/Bio_ClinicalBERT\")\n",
        "clinical_bert_model = AutoModel.from_pretrained(\"emilyalsentzer/Bio_ClinicalBERT\")\n"
      ],
      "execution_count": null,
      "outputs": []
    },
    {
      "cell_type": "code",
      "metadata": {
        "id": "P104vexUQlfd",
        "colab": {
          "base_uri": "https://localhost:8080/"
        },
        "outputId": "41addbd2-6702-4ec7-b5c0-c3be536bebd0"
      },
      "source": [
        "# Text preprocessing\n",
        "input = tokenizer(list(full_df['spans']),return_tensors=\"pt\",padding=True)\n",
        "#output= clinical_bert_model(**input)\n",
        "input[1]"
      ],
      "execution_count": null,
      "outputs": [
        {
          "output_type": "execute_result",
          "data": {
            "text/plain": [
              "Encoding(num_tokens=219, attributes=[ids, type_ids, tokens, offsets, attention_mask, special_tokens_mask, overflowing])"
            ]
          },
          "metadata": {
            "tags": []
          },
          "execution_count": 37
        }
      ]
    },
    {
      "cell_type": "code",
      "metadata": {
        "id": "CvdAQ0F8Y3ZK",
        "colab": {
          "base_uri": "https://localhost:8080/"
        },
        "outputId": "b00d299f-4540-428d-c686-e18a65130560"
      },
      "source": [
        "full_df['tokenizedtext'] = list(input['input_ids'].numpy())\n",
        "print(full_df['tokenizedtext'][1])\n",
        "len(full_df['tokenizedtext'][1])"
      ],
      "execution_count": null,
      "outputs": [
        {
          "output_type": "stream",
          "text": [
            "[  101  3170   117  1105  1119  1110  1606   170 14671   119  1119  1110\n",
            "  1303  1111  9285  2812   118  1146   119  1763  2657  1607  1110  3385\n",
            "  1111  1185 10845  5917  2331   119  1119  1144   170  1607  1104 17972\n",
            "  1105  2946   170  1643 25362   119  1119  2274  5250 25616   117  3621\n",
            "  3708  1306   117   176  7535  2528 20695  2176  1105  1821  3113  1233\n",
            "   119  1119  1110  1145  1723  1118   173  1197   119  5871 13166  1181\n",
            " 22664  2083  1111  1126   170 11096  7889  1582  8191   119  1119  1674\n",
            "  1136  5427   119  1119  8898 10298  1193   119  1119  1110   170  1383\n",
            "  5592  1120  1884  7776 10242  5324   119  1113  8179  2052  1119  1144\n",
            "   188   102     0     0     0     0     0     0     0     0     0     0\n",
            "     0     0     0     0     0     0     0     0     0     0     0     0\n",
            "     0     0     0     0     0     0     0     0     0     0     0     0\n",
            "     0     0     0     0     0     0     0     0     0     0     0     0\n",
            "     0     0     0     0     0     0     0     0     0     0     0     0\n",
            "     0     0     0     0     0     0     0     0     0     0     0     0\n",
            "     0     0     0     0     0     0     0     0     0     0     0     0\n",
            "     0     0     0     0     0     0     0     0     0     0     0     0\n",
            "     0     0     0     0     0     0     0     0     0     0     0     0\n",
            "     0     0     0]\n"
          ],
          "name": "stdout"
        },
        {
          "output_type": "execute_result",
          "data": {
            "text/plain": [
              "219"
            ]
          },
          "metadata": {
            "tags": []
          },
          "execution_count": 38
        }
      ]
    },
    {
      "cell_type": "markdown",
      "metadata": {
        "id": "FJba5z-o4HuL"
      },
      "source": [
        "Creating date-wise folders for storing experimental outputs"
      ]
    },
    {
      "cell_type": "code",
      "metadata": {
        "id": "QvqHBicw3_2b",
        "colab": {
          "base_uri": "https://localhost:8080/",
          "height": 69
        },
        "outputId": "1192045d-6297-476e-ddc0-162ebd0abe35"
      },
      "source": [
        "from datetime import date\n",
        "from datetime import datetime\n",
        "import os\n",
        "\n",
        "today = str(date.today())\n",
        "folder_address = \"/content/drive/MyDrive/Dataset_pls/CMED21/output/\"\n",
        "# dd/mm/YY H:M:S\n",
        "\n",
        "now = datetime.now()\n",
        "dt_string = now.strftime(\"%d-%m-%Y-%H-%M-%S\")\n",
        "print(\"date and time =\", dt_string)\t\n",
        "\n",
        "try:\n",
        "  os.mkdir(folder_address+dt_string)\n",
        "  print(\"folder created\")\n",
        "except OSError as e:\n",
        "  print(\"file exists\")\n",
        "\n",
        "output_path = folder_address+dt_string+\"/\"\n",
        "output_path"
      ],
      "execution_count": null,
      "outputs": [
        {
          "output_type": "stream",
          "text": [
            "date and time = 23-03-2021-16-54-27\n",
            "folder created\n"
          ],
          "name": "stdout"
        },
        {
          "output_type": "execute_result",
          "data": {
            "application/vnd.google.colaboratory.intrinsic+json": {
              "type": "string"
            },
            "text/plain": [
              "'/content/drive/MyDrive/Dataset_pls/CMED21/output/23-03-2021-16-54-27/'"
            ]
          },
          "metadata": {
            "tags": []
          },
          "execution_count": 39
        }
      ]
    },
    {
      "cell_type": "code",
      "metadata": {
        "colab": {
          "base_uri": "https://localhost:8080/",
          "height": 35
        },
        "id": "EaIqW9bzhSAa",
        "outputId": "ce3915ae-539c-4126-da0e-bfa579843671"
      },
      "source": [
        "folder_address+dt_string"
      ],
      "execution_count": null,
      "outputs": [
        {
          "output_type": "execute_result",
          "data": {
            "application/vnd.google.colaboratory.intrinsic+json": {
              "type": "string"
            },
            "text/plain": [
              "'/content/drive/MyDrive/Dataset_pls/CMED21/output/23-03-2021-16-54-27'"
            ]
          },
          "metadata": {
            "tags": []
          },
          "execution_count": 40
        }
      ]
    },
    {
      "cell_type": "code",
      "metadata": {
        "id": "HC0575sdEnDN",
        "colab": {
          "base_uri": "https://localhost:8080/"
        },
        "outputId": "123b4d56-c45c-42a9-a966-97faea6bf44a"
      },
      "source": [
        "full_df.head(5)\n",
        "print(full_df.shape)\n",
        "only_disp_fulldf= full_df.loc[full_df['disposition'] == 'Disposition']\n",
        "only_disp_fulldf.head(5)\n",
        "only_disp_fulldf.shape\n",
        "\n",
        "print(only_disp_fulldf['action'].value_counts())\n",
        "print(\"---------------------------------\")\n",
        "print(only_disp_fulldf['temporality'].value_counts())\n",
        "print(\"---------------------------------\")\n",
        "print(only_disp_fulldf['certainty'].value_counts())\n",
        "print(\"--------------------------------\")\n",
        "print(only_disp_fulldf['actor'].value_counts())\n",
        "print(\"---------------------------------\")\n",
        "\n",
        "full_df.to_csv(output_path+\"traindata.csv\")"
      ],
      "execution_count": null,
      "outputs": [
        {
          "output_type": "stream",
          "text": [
            "(7230, 16)\n",
            "Start          568\n",
            "Stop           341\n",
            "UniqueDose     285\n",
            "Increase       129\n",
            "Decrease        54\n",
            "Unknown         35\n",
            "OtherChange      1\n",
            "Name: action, dtype: int64\n",
            "---------------------------------\n",
            "Past       745\n",
            "Present    494\n",
            "Future     145\n",
            "Unknown     29\n",
            "Name: temporality, dtype: int64\n",
            "---------------------------------\n",
            "Certain         1177\n",
            "Hypothetical     134\n",
            "Conditional      100\n",
            "Unknown            2\n",
            "Name: certainty, dtype: int64\n",
            "--------------------------------\n",
            "Physician    1278\n",
            "Patient       107\n",
            "Unknown        28\n",
            "Name: actor, dtype: int64\n",
            "---------------------------------\n"
          ],
          "name": "stdout"
        }
      ]
    },
    {
      "cell_type": "markdown",
      "metadata": {
        "id": "VgA1qBHJlcXH"
      },
      "source": [
        "Data exploration"
      ]
    },
    {
      "cell_type": "code",
      "metadata": {
        "id": "lwh7jTgdlY0U",
        "colab": {
          "base_uri": "https://localhost:8080/",
          "height": 346
        },
        "outputId": "6e296b68-fa06-4998-fa01-f95b677d74bc"
      },
      "source": [
        "import nltk\n",
        "nltk.download('punkt')\n",
        "\n",
        "from nltk import ngrams, FreqDist\n",
        "spans= list(only_disp_fulldf.loc[only_disp_fulldf['certainty']== 'Conditional']['spans'])\n",
        "\n",
        "xx= ' '.join(spans)\n",
        "words = nltk.word_tokenize(xx)\n",
        "all_counts = FreqDist(words)\n",
        "\n",
        "filter_words = dict([(m, n) for m, n in all_counts.items() if len(m) > 3])\n",
        "\n",
        "# for key in sorted(filter_words):\n",
        "#   print(\"%s: %s\" % (key, filter_words[key]))\n",
        "\n",
        "data_analysis = nltk.FreqDist(filter_words)\n",
        "data_analysis.plot(35, cumulative=False)\n"
      ],
      "execution_count": null,
      "outputs": [
        {
          "output_type": "stream",
          "text": [
            "[nltk_data] Downloading package punkt to /root/nltk_data...\n",
            "[nltk_data]   Package punkt is already up-to-date!\n"
          ],
          "name": "stdout"
        },
        {
          "output_type": "display_data",
          "data": {
            "image/png": "[encoded data removed]",
            "text/plain": [
              "<Figure size 432x288 with 1 Axes>"
            ]
          },
          "metadata": {
            "tags": [],
            "needs_background": "light"
          }
        }
      ]
    },
    {
      "cell_type": "code",
      "metadata": {
        "id": "EwIpv2L_YgVX",
        "colab": {
          "base_uri": "https://localhost:8080/"
        },
        "outputId": "67a8d92c-e60a-4e17-f1f7-5e320e5e0b3d"
      },
      "source": [
        "x= full_df.dropna(subset=['spans'])\n",
        "x.shape\n",
        "print(full_df.loc[748,'file_location'])\n",
        "print(full_df.file_location.loc[[6858]])"
      ],
      "execution_count": null,
      "outputs": [
        {
          "output_type": "stream",
          "text": [
            "/content/drive/MyDrive/Dataset_pls/CMED21/data/train/131-02.txt\n",
            "6858    /content/drive/MyDrive/Dataset_pls/CMED21/data...\n",
            "Name: file_location, dtype: object\n"
          ],
          "name": "stdout"
        }
      ]
    },
    {
      "cell_type": "markdown",
      "metadata": {
        "id": "fBWQVzGu5Oms"
      },
      "source": [
        "Remove Unknown and OtherChange records (<40) during cross validation"
      ]
    },
    {
      "cell_type": "code",
      "metadata": {
        "id": "6XhZrNLZxDcK",
        "colab": {
          "base_uri": "https://localhost:8080/"
        },
        "outputId": "1d848305-c210-43b8-bf49-360ee9aebe77"
      },
      "source": [
        "input[2]\n",
        "y= full_df['disposition']\n",
        "len(y)\n",
        "y.value_counts()"
      ],
      "execution_count": null,
      "outputs": [
        {
          "output_type": "execute_result",
          "data": {
            "text/plain": [
              "NoDisposition    5260\n",
              "Disposition      1413\n",
              "Undetermined      557\n",
              "Name: disposition, dtype: int64"
            ]
          },
          "metadata": {
            "tags": []
          },
          "execution_count": 44
        }
      ]
    },
    {
      "cell_type": "markdown",
      "metadata": {
        "id": "5l98QJu2aj_p"
      },
      "source": [
        "Bi-directional LSTM classifier class\n",
        "```\n",
        "- batch_size : Fixed Size of the batch 5\n",
        "- output_size : 3 (Disposition vs No Disposition vs unknown)\n",
        "- hidden_size : 256 \n",
        "- vocab_size : Size of the vocabulary from train data\n",
        "- embedding_length : length of Embeddding dimension from Bio-BERT\n",
        "- word_embeddings : Bio-BERT\n",
        "- bidirectional : Flag that indicates if the model should be bidirectional or not\n",
        "\n",
        "```"
      ]
    },
    {
      "cell_type": "code",
      "metadata": {
        "id": "RG3RpZEyaoqK"
      },
      "source": [
        "import torch.nn as nn\n",
        "\n",
        "class BiLSTM(nn.Module):\n",
        "    def __init__(self,bert,hidden_dim,output_dim,n_layers,bidirectional,dropout):\n",
        "        super().__init__()\n",
        "        print(\"================================================================\") \n",
        "        self.bert = bert\n",
        "        self.hidden_size = hidden_dim * 2 if bidirectional else hidden_dim\n",
        "        self.bidirectional = bidirectional\n",
        "        self.n_layers = n_layers\n",
        "        embedding_dim = bert.config.to_dict()['hidden_size']\n",
        "        self.lstm = nn.LSTM(embedding_dim, self.hidden_size, num_layers = n_layers, bidirectional=bidirectional)\n",
        "        # self.rnn = nn.GRU(embedding_dim,hidden_dim,num_layers = n_layers,bidirectional = bidirectional,batch_first = True,\n",
        "        #                   dropout = 0 if n_layers < 2 else dropout)\n",
        "        self.relu = nn.ReLU()\n",
        "        self.fc1 = nn.Linear(self.hidden_size, 256)\n",
        "        self.fc2 = nn.Linear(256, output_dim)\n",
        "        self.softmax = nn.Softmax()\n",
        "        self.dropout = nn.Dropout(dropout)\n",
        "\n",
        "    \n",
        "    def init_hidden(self, biflag, batch_size):\n",
        "        return(Variable(torch.zeros(biflag, batch_size, self.hidden_size)).to(device),\n",
        "                        Variable(torch.zeros(biflag, batch_size, self.hidden_size)).to(device))\n",
        "       \n",
        "    def forward(self, text, batch_size):\n",
        "        with torch.no_grad():\n",
        "            embedded = self.bert(text)[0] #calling bio-bert \n",
        "        embedded = embedded.permute(1, 0, 2)      # change order of    \n",
        "        if(self.bidirectional == True):\n",
        "            self.hidden = self.init_hidden(2 * self.n_layers, batch_size)\n",
        "        else:\n",
        "            self.hidden = self.init_hidden(1 * self.n_layers, batch_size)       \n",
        "\n",
        "        output, (final_hidden_state, final_cell_state) = self.lstm(embedded, self.hidden)\n",
        "        #hidden = [n layers * n directions, batch size, emb dim]\n",
        "\n",
        "        relu = self.relu(final_hidden_state[-1])      \n",
        "        dense1 = self.fc1(relu)\n",
        "        drop = self.dropout(dense1)       \n",
        "        final_output = self.softmax(self.fc2(drop))\n",
        "        \n",
        "        return final_output"
      ],
      "execution_count": null,
      "outputs": []
    },
    {
      "cell_type": "markdown",
      "metadata": {
        "id": "clgSJf0GAxCs"
      },
      "source": [
        "Hyperparameters for LSTM class"
      ]
    },
    {
      "cell_type": "code",
      "metadata": {
        "id": "fCQlb6062llY",
        "colab": {
          "base_uri": "https://localhost:8080/"
        },
        "outputId": "4236b682-6f9a-487b-c34d-431372924809"
      },
      "source": [
        "HIDDEN_DIM = 256\n",
        "OUTPUT_DIM = 3\n",
        "N_LAYERS = 2\n",
        "BIDIRECTIONAL = True\n",
        "DROPOUT = 0.25\n",
        "hyperparameters = [HIDDEN_DIM,OUTPUT_DIM ,N_LAYERS,BIDIRECTIONAL,DROPOUT]\n",
        "print(hyperparameters)\n",
        "model = BiLSTM(clinical_bert_model,HIDDEN_DIM,OUTPUT_DIM,N_LAYERS,BIDIRECTIONAL,DROPOUT)"
      ],
      "execution_count": null,
      "outputs": [
        {
          "output_type": "stream",
          "text": [
            "[256, 3, 2, True, 0.25]\n",
            "================================================================\n"
          ],
          "name": "stdout"
        }
      ]
    },
    {
      "cell_type": "code",
      "metadata": {
        "id": "pcKrZ4RDv9-b"
      },
      "source": [
        "# model"
      ],
      "execution_count": null,
      "outputs": []
    },
    {
      "cell_type": "code",
      "metadata": {
        "id": "Aqfhx_gy3DBe"
      },
      "source": [
        "# def count_parameters(model):\n",
        "#     return sum(p.numel() for p in model.parameters() if p.requires_grad)\n",
        "\n",
        "# print(f'The model has {count_parameters(model):,} trainable parameters')"
      ],
      "execution_count": null,
      "outputs": []
    },
    {
      "cell_type": "markdown",
      "metadata": {
        "id": "vGdK8z4FeLzO"
      },
      "source": [
        "Training function"
      ]
    },
    {
      "cell_type": "markdown",
      "metadata": {
        "id": "ut_cckmRWy2c"
      },
      "source": [
        "Hyperparameter optimization fn"
      ]
    },
    {
      "cell_type": "code",
      "metadata": {
        "id": "SMwKx6jyWx_h",
        "colab": {
          "base_uri": "https://localhost:8080/",
          "height": 229
        },
        "outputId": "fd386914-f9c9-4947-a985-71858dd05610"
      },
      "source": [
        "hyp_optimizer = HyperParameterOptimizer(\n",
        "    base_task_id=TEMPLATE_TASK_ID,  \n",
        "    # setting the hyper-parameters to optimize\n",
        "    hyper_parameters=[\n",
        "        UniformIntegerParameterRange('number_of_epochs', min_value=2, max_value=12, step_size=2),\n",
        "        UniformIntegerParameterRange('batch_size', min_value=2, max_value=16, step_size=2),\n",
        "        UniformParameterRange('dropout', min_value=0, max_value=0.5, step_size=0.05),\n",
        "        UniformParameterRange('base_lr', min_value=0.00025, max_value=0.01, step_size=0.00025),\n",
        "    ],\n",
        "    # setting the objective metric we want to maximize/minimize\n",
        "    objective_metric_title='accuracy',\n",
        "    objective_metric_series='total',\n",
        "    objective_metric_sign='max',  \n",
        "\n",
        "    # setting optimizer \n",
        "    optimizer_class=OptimizerOptuna,\n",
        "    \n",
        "    # Configuring optimization parameters\n",
        "    execution_queue='dan_queue',  \n",
        "    max_number_of_concurrent_tasks=2,  \n",
        "    optimization_time_limit=60., \n",
        "    compute_time_limit=120, \n",
        "    total_max_jobs=20,  \n",
        "    min_iteration_per_job=15000,  \n",
        "    max_iteration_per_job=150000,  \n",
        ")"
      ],
      "execution_count": null,
      "outputs": [
        {
          "output_type": "error",
          "ename": "NameError",
          "evalue": "ignored",
          "traceback": [
            "\u001b[0;31m---------------------------------------------------------------------------\u001b[0m",
            "\u001b[0;31mNameError\u001b[0m                                 Traceback (most recent call last)",
            "\u001b[0;32m<ipython-input-49-4fef807f228c>\u001b[0m in \u001b[0;36m<module>\u001b[0;34m()\u001b[0m\n\u001b[0;32m----> 1\u001b[0;31m hyp_optimizer = HyperParameterOptimizer(\n\u001b[0m\u001b[1;32m      2\u001b[0m     \u001b[0mbase_task_id\u001b[0m\u001b[0;34m=\u001b[0m\u001b[0mTEMPLATE_TASK_ID\u001b[0m\u001b[0;34m,\u001b[0m\u001b[0;34m\u001b[0m\u001b[0;34m\u001b[0m\u001b[0m\n\u001b[1;32m      3\u001b[0m     \u001b[0;31m# setting the hyper-parameters to optimize\u001b[0m\u001b[0;34m\u001b[0m\u001b[0;34m\u001b[0m\u001b[0;34m\u001b[0m\u001b[0m\n\u001b[1;32m      4\u001b[0m     hyper_parameters=[\n\u001b[1;32m      5\u001b[0m         \u001b[0mUniformIntegerParameterRange\u001b[0m\u001b[0;34m(\u001b[0m\u001b[0;34m'number_of_epochs'\u001b[0m\u001b[0;34m,\u001b[0m \u001b[0mmin_value\u001b[0m\u001b[0;34m=\u001b[0m\u001b[0;36m2\u001b[0m\u001b[0;34m,\u001b[0m \u001b[0mmax_value\u001b[0m\u001b[0;34m=\u001b[0m\u001b[0;36m12\u001b[0m\u001b[0;34m,\u001b[0m \u001b[0mstep_size\u001b[0m\u001b[0;34m=\u001b[0m\u001b[0;36m2\u001b[0m\u001b[0;34m)\u001b[0m\u001b[0;34m,\u001b[0m\u001b[0;34m\u001b[0m\u001b[0;34m\u001b[0m\u001b[0m\n",
            "\u001b[0;31mNameError\u001b[0m: name 'HyperParameterOptimizer' is not defined"
          ]
        }
      ]
    },
    {
      "cell_type": "code",
      "metadata": {
        "id": "XJuh628H3yGZ"
      },
      "source": [
        ""
      ],
      "execution_count": null,
      "outputs": []
    },
    {
      "cell_type": "code",
      "metadata": {
        "id": "mHb_KXFUVdWf"
      },
      "source": [
        "from torch.nn import functional as F\n",
        "criterion = F.cross_entropy\n",
        "\n",
        "device = torch.device('cuda' if torch.cuda.is_available() else 'cpu')\n",
        "model = model.to(device)\n",
        "\n",
        "#criterion = criterion.to(device)"
      ],
      "execution_count": null,
      "outputs": []
    },
    {
      "cell_type": "code",
      "metadata": {
        "id": "PmaVyPmS9d49"
      },
      "source": [
        "def fileexists(filename):\n",
        "  if os.path.exists(filename):\n",
        "    return 'a' # append if already exists\n",
        "  else:\n",
        "    return 'w' # make a new file if not"
      ],
      "execution_count": null,
      "outputs": []
    },
    {
      "cell_type": "code",
      "metadata": {
        "id": "lhOncMaC6yB2"
      },
      "source": [
        "   \"\"\"\n",
        "    Returns accuracy per batch, i.e. if you get 8/10 right, this returns 0.8, NOT 8\n",
        "    \"\"\"\n",
        "\n",
        "def multi_accuracy(preds, y, filename = \"\", save = False):\n",
        "    p = preds.argmax(dim=1).cpu().numpy() #Predictions               \n",
        "    r = y.float()[:, 0].data.cpu().numpy() #Truth\n",
        "\n",
        "    if save == True:\n",
        "      pfilename = str(output_path)+str(filename)+\"_p.txt\"\n",
        "      # print(pfilename)\n",
        "      predictionfile = open(pfilename, fileexists(pfilename))\n",
        "      np.savetxt(predictionfile, p, fmt='%5d', delimiter=',')\n",
        "      predictionfile.close()\n",
        "\n",
        "      afilename = str(output_path)+str(filename)+\"_a.txt\"\n",
        "      # print(afilename)\n",
        "      actualfile = open(afilename, fileexists(afilename))\n",
        "      \n",
        "      np.savetxt(actualfile, r, fmt='%5d', delimiter=',')\n",
        "      actualfile.close()\n",
        "\n",
        "    return np.sum(p == r)    \n",
        "    "
      ],
      "execution_count": null,
      "outputs": []
    },
    {
      "cell_type": "code",
      "metadata": {
        "id": "BCA3hT9n4x9g"
      },
      "source": [
        "from torch.autograd import Variable\n",
        "def train(model, train_tsdata, optimizer, criterion, batch_size):\n",
        "    \n",
        "    epoch_loss = 0\n",
        "    epoch_acc = 0\n",
        "    \n",
        "    model.train()\n",
        "    train_loader = torch.utils.data.DataLoader(train_tsdata, batch_size=batch_size, shuffle=True)\n",
        "    for x_batch, y_batch in train_loader:\n",
        "      \n",
        "      X = Variable(torch.LongTensor(x_batch)).to(device)\n",
        "      y = Variable(torch.LongTensor(y_batch.long())).to(device)\n",
        "      \n",
        "      optimizer.zero_grad()\n",
        "      predictions = model(X, X.shape[0])\n",
        "      \n",
        "      if X.shape[0] == 1:\n",
        "        loss = criterion(predictions.view(-1), y.view(-1))\n",
        "      else:\n",
        "        loss = criterion(predictions.squeeze(), y.squeeze())\n",
        "      \n",
        "      acc = multi_accuracy(predictions.squeeze(), y, \"\",batch_size)\n",
        "      epoch_loss += loss.item()\n",
        "      epoch_acc += acc.item()\n",
        "      \n",
        "      loss.backward()        \n",
        "      optimizer.step()\n",
        "        \n",
        "    return epoch_loss / len(train_loader), epoch_acc / len(train_tsdata)"
      ],
      "execution_count": null,
      "outputs": []
    },
    {
      "cell_type": "code",
      "metadata": {
        "id": "fCAl4Hnx4o33"
      },
      "source": [
        "def evaluate(model, valid_tsdata, criterion, batch_size, filename, save):\n",
        "    \n",
        "    epoch_loss = 0\n",
        "    epoch_acc = 0\n",
        "    \n",
        "    model.eval()\n",
        "    valid_loader = torch.utils.data.DataLoader(valid_tsdata, batch_size=batch_size, shuffle=False)\n",
        "    with torch.no_grad():\n",
        "        for x_batch, y_batch in valid_loader:\n",
        "          X_val = Variable(torch.LongTensor(x_batch)).to(device)\n",
        "          y_val = Variable(torch.LongTensor(y_batch.long())).to(device)\n",
        "          predictions_val = model(X_val, X_val.shape[0])\n",
        "\n",
        "          loss = criterion(predictions_val.squeeze(), y_val.squeeze())\n",
        " \n",
        "          acc = multi_accuracy(predictions_val.squeeze(), y_val, filename,save)\n",
        "          epoch_loss += loss.item()\n",
        "          epoch_acc += acc.item()\n",
        "        \n",
        "    return epoch_loss / len(valid_loader), epoch_acc / len(valid_tsdata)"
      ],
      "execution_count": null,
      "outputs": []
    },
    {
      "cell_type": "code",
      "metadata": {
        "id": "F6EeJw1o4sbp"
      },
      "source": [
        "import time\n",
        "\n",
        "def epoch_time(start_time, end_time):\n",
        "    elapsed_time = end_time - start_time\n",
        "    elapsed_mins = int(elapsed_time / 60)\n",
        "    elapsed_secs = int(elapsed_time - (elapsed_mins * 60))\n",
        "    return elapsed_mins, elapsed_secs"
      ],
      "execution_count": null,
      "outputs": []
    },
    {
      "cell_type": "markdown",
      "metadata": {
        "id": "fZCWFX86YD0E"
      },
      "source": [
        "Train Evaluate method"
      ]
    },
    {
      "cell_type": "code",
      "metadata": {
        "id": "aDG61uFI4zMv"
      },
      "source": [
        "def train_evaluate(model,train_tsdata, val_tsdata,optimizer, criterion, batchsize,learningrate,filename, n_epochs=5):\n",
        "  N_EPOCHS = n_epochs\n",
        "  tloss = []\n",
        "  vloss = []\n",
        "  tacc = []\n",
        "  vacc = []\n",
        "  savepredictions = False\n",
        "  best_valid_loss = float('inf')\n",
        "\n",
        "  for epoch in range(N_EPOCHS):\n",
        "      \n",
        "      start_time = time.time()\n",
        "      \n",
        "      if epoch == N_EPOCHS-1:\n",
        "        savepredictions = True\n",
        "      \n",
        "      train_loss, train_acc = train(model, train_tsdata, optimizer, criterion, batchsize)\n",
        "      valid_loss, valid_acc = evaluate(model, val_tsdata, criterion, batchsize,filename,savepredictions)\n",
        "\n",
        "      tloss.append(train_loss)\n",
        "      vloss.append(valid_loss)\n",
        "      tacc.append(train_acc)\n",
        "      vacc.append(valid_acc)\n",
        "          \n",
        "      end_time = time.time()\n",
        "          \n",
        "      epoch_mins, epoch_secs = epoch_time(start_time, end_time)\n",
        "          \n",
        "      # if valid_loss < best_valid_loss:\n",
        "      #     best_valid_loss = valid_loss\n",
        "      #     torch.save(model.state_dict(), output_path+filename+\"-model.pt\")\n",
        "      \n",
        "      epoch_file_name= output_path+\"epoch_details.txt\"\n",
        "      epoch_file = open(epoch_file_name,fileexists(epoch_file_name))\n",
        "      print(\"Task,Epoch,Batchsize,learningrate,Train_Loss,Train Acc,ValLoss,ValAcc\",file=epoch_file)\n",
        "      if epoch <= (N_EPOCHS -1):\n",
        "\n",
        "        print(\"Batch size:{} Task: {}\".format(batchsize,filename))\n",
        "        print(f'Epoch: {epoch+1:02} Epoch Time: {epoch_mins}m {epoch_secs}s')\n",
        "        print(f'\\tTrain Loss: {train_loss:.3f} Train Acc: {train_acc*100:.2f}%')\n",
        "        print(f'\\t Val. Loss: {valid_loss:.3f} Val. Acc: {valid_acc*100:.2f}%')\n",
        "\n",
        "        \n",
        "        print(\"{},{},{},{},{},{},{},{}\".format(filename,epoch+1,batchsize,learningrate,train_loss,train_acc,valid_loss,valid_acc),file=epoch_file)\n",
        "        # print(f'Epoch: {epoch+1:02} | Epoch Time: {epoch_mins}m {epoch_secs}s',file=epoch_file)\n",
        "        # print(f'\\tTrain Loss: {train_loss:.3f} | Train Acc: {train_acc*100:.2f}%',file=epoch_file)\n",
        "        # print(f'\\t Val. Loss: {valid_loss:.3f} |  Val. Acc: {valid_acc*100:.2f}%',file=epoch_file)\n",
        "        \n",
        "\n",
        "  return best_valid_loss,tloss,vloss,tacc,vacc"
      ],
      "execution_count": null,
      "outputs": []
    },
    {
      "cell_type": "code",
      "metadata": {
        "colab": {
          "base_uri": "https://localhost:8080/"
        },
        "id": "ZTp3zI8BGdg1",
        "outputId": "02daf0da-b245-45a3-efb7-8882be1a8106"
      },
      "source": [
        "device"
      ],
      "execution_count": null,
      "outputs": [
        {
          "output_type": "execute_result",
          "data": {
            "text/plain": [
              "device(type='cuda')"
            ]
          },
          "metadata": {
            "tags": []
          },
          "execution_count": 57
        }
      ]
    },
    {
      "cell_type": "markdown",
      "metadata": {
        "id": "lU6VASTDxblb"
      },
      "source": [
        " Disposition TASK- Stratified K fold Cross Validation- 3 folds\n",
        "\n",
        "- Set Batch Size\n",
        "- Set n_epochs"
      ]
    },
    {
      "cell_type": "code",
      "metadata": {
        "id": "s96atcMpxbG6"
      },
      "source": [
        "from sklearn.model_selection import StratifiedKFold\n",
        "from sklearn import preprocessing\n",
        "import torch.optim as optim\n",
        "import random\n",
        "\n",
        "import matplotlib.pyplot as plt\n",
        "label= ['disposition','action','certainty','temporality','actor']\n",
        "skf = StratifiedKFold(n_splits=3)\n",
        "le = preprocessing.LabelEncoder()\n",
        "\n",
        "X= full_df[['tokenizedtext']]\n",
        "y= full_df[[label[0]]]\n",
        "skf.get_n_splits(X,y)\n",
        "\n",
        "#============================\n",
        "# batchsize= [32,64,128,256]\n",
        "# lr= [0.01,0.001,0.0001,0.00001]\n",
        "# n_epochs = [100,200,500]\n",
        "batchsize = 100\n",
        "n_epochs = 100\n",
        "learning_rate = 0.01\n",
        "filename = label[0]\n",
        "#=============================\n",
        "\n",
        "fold = 0\n",
        "random.seed(10)\n",
        "# for b in batchsize:\n",
        "#   for l in lr:\n",
        "#     for epochs in n_epochs:\n",
        "for train_index, val_index in skf.split(X,y):\n",
        "        fold += 1\n",
        "        optimizer = optim.Adam(model.parameters(),lr= learning_rate)\n",
        "        optimizer2 = optim.ASGD(model.parameters())\n",
        "\n",
        "        print(\"TRAIN:\", train_index, \"Valid:\", val_index)\n",
        "        X_train, X_val = X.iloc[train_index], X.iloc[val_index]\n",
        "        y_train, y_val = y.iloc[train_index], y.iloc[val_index]\n",
        "        # print(X_train)\n",
        "        yt = le.fit_transform(y_train.values)\n",
        "        yv = le.transform(y_val.values)\n",
        "        \n",
        "        X_train.reset_index(drop= True, inplace = True)\n",
        "        y_train.reset_index(drop= True, inplace = True)\n",
        "        X_val.reset_index(drop= True, inplace = True)\n",
        "        y_val.reset_index(drop= True, inplace = True)\n",
        "\n",
        "        yt = torch.from_numpy(yt.reshape((y_train.shape[0],-1))).float()\n",
        "        xt = torch.tensor(X_train['tokenizedtext'])\n",
        "        train_tsdata = torch.utils.data.TensorDataset(xt, yt)\n",
        "\n",
        "        yv = torch.from_numpy(yv.reshape((y_val.shape[0],-1))).float()\n",
        "        xv = torch.tensor(X_val['tokenizedtext'])\n",
        "        val_tsdata = torch.utils.data.TensorDataset(xv, yv)\n",
        "        \n",
        "        filename = filename + \"fold\" + str(fold)\n",
        "        best_valid_loss,tloss,vloss,tacc,vacc = train_evaluate(model,train_tsdata, val_tsdata,optimizer, criterion, batchsize,learning_rate,filename,n_epochs)\n",
        "        \n",
        "        plt.title(\"Train and Validation Loss\")\n",
        "        plt.plot(tloss,label='train loss')\n",
        "        plt.plot(vloss,label='validation loss')\n",
        "        plt.legend()\n",
        "        plt.savefig(output_path+\"loss_plot.png\")\n",
        "        plt.show()\n",
        "        print(best_valid_loss,vacc)\n",
        "\n"
      ],
      "execution_count": null,
      "outputs": []
    },
    {
      "cell_type": "markdown",
      "metadata": {
        "id": "UInzC6ob-xgs"
      },
      "source": [
        "Get the class level accuracy"
      ]
    },
    {
      "cell_type": "code",
      "metadata": {
        "id": "2glVn9lQ-0xw"
      },
      "source": [
        "import numpy as np\n",
        "import pandas as pd\n",
        "\n",
        "def read_predictions(output_path, taskname):\n",
        "  try:\n",
        "    preds = np.loadtxt(output_path + taskname +\"_p.txt\").astype(int).tolist()\n",
        "    truth = np.loadtxt(output_path + taskname +\"_a.txt\").astype(int).tolist()\n",
        "    analysisdf = pd.DataFrame(list(zip(truth, preds)), columns = ['truth', 'predictions'])\n",
        "    print(analysisdf.shape)\n",
        "    print(\"truth \\n\", analysisdf['truth'].value_counts())\n",
        "    print(\"predictions \\n\",analysisdf['predictions'].value_counts())\n",
        "    # print(analysisdf.head(5))\n",
        "  except:\n",
        "    print(\"prediction files not found\")\n",
        "    analysisdf= pd.DataFrame(data=None)\n",
        "  return analysisdf"
      ],
      "execution_count": null,
      "outputs": []
    },
    {
      "cell_type": "code",
      "metadata": {
        "colab": {
          "base_uri": "https://localhost:8080/",
          "height": 35
        },
        "id": "Egw72UReBoCU",
        "outputId": "f2c62af5-fe85-420a-807e-7de92d51cd5a"
      },
      "source": [
        "output_path"
      ],
      "execution_count": null,
      "outputs": [
        {
          "output_type": "execute_result",
          "data": {
            "application/vnd.google.colaboratory.intrinsic+json": {
              "type": "string"
            },
            "text/plain": [
              "'/content/drive/MyDrive/Dataset_pls/CMED21/output/23-03-2021-16-54-27/'"
            ]
          },
          "metadata": {
            "tags": []
          },
          "execution_count": 63
        }
      ]
    },
    {
      "cell_type": "markdown",
      "metadata": {
        "id": "SgB9QO2fCqWQ"
      },
      "source": [
        "'NoDisposition': 0, 'Disposition': 1, 'Undetermined': 2"
      ]
    },
    {
      "cell_type": "code",
      "metadata": {
        "colab": {
          "base_uri": "https://localhost:8080/"
        },
        "id": "_3wPfRflCtKS",
        "outputId": "15dc11ab-701e-404c-d2ad-cc017b55a9cc"
      },
      "source": [
        "from sklearn.metrics import f1_score, precision_score, recall_score\n",
        "from sklearn import metrics, preprocessing\n",
        "import os\n",
        "\n",
        "numfolds = 3\n",
        "n = 0\n",
        "if output_path == \"\":\n",
        "  output_path = \"/content/drive/My Drive/Dataset_pls/CMED21/output/22-03-2021-22-40-11/\"\n",
        "\n",
        "while n < numfolds:\n",
        "  n += 1\n",
        "  taskname = \"dispositionfold\" + str(n)\n",
        "\n",
        "  analysisdf = read_predictions(output_path, taskname)\n",
        "\n",
        "  y_true= analysisdf['truth']\n",
        "  y_pred= analysisdf['predictions']\n",
        "\n",
        "\n",
        "  f1_disp_micro= f1_score(y_true, y_pred, average='micro')\n",
        "  f1_disp_macro= f1_score(y_true, y_pred, average='macro')\n",
        "\n",
        "  p_disp_micro= precision_score(y_true, y_pred, average='micro')\n",
        "  p_disp_macro= precision_score(y_true, y_pred, average='macro')\n",
        "\n",
        "  r_disp_micro= recall_score(y_true, y_pred, average='micro')\n",
        "  r_disp_macro= recall_score(y_true, y_pred, average='macro')\n",
        "\n",
        "  target_names = list(le.classes_)\n",
        "  \n",
        "  result_report = open(output_path+\"classification_report_disp.txt\", fileexists(output_path+\"classification_report_disp.txt\"))\n",
        "  print(datetime, file = result_report)\n",
        "  print(metrics.classification_report(y_true, y_pred, target_names=target_names),file=result_report)\n",
        "\n",
        "\n",
        "  print(\"f-1 score micro is:{} \\n f-1 score macro is:{}\".format(f1_disp_micro,f1_disp_macro))\n",
        "  print(\"f-1 score micro is\", f1_disp_micro, \"\\n f-1 score macro is: \",f1_disp_macro, file=result_report)\n",
        "  print(\"precision micro is\", p_disp_micro, \"\\n precision macro is: \",p_disp_macro, file=result_report)\n",
        "  print(\"recall micro is\", r_disp_micro, \"\\n recall macro is: \",r_disp_macro, file=result_report)\n",
        "  result_report.close()\n",
        "  # disp = analysisdf[analysisdf['truth'] == 0]\n",
        "  # print(disp.shape)\n",
        "  # print(\"accuracy of disposition {}\". format(len(nodisp[nodisp['predictions'] == 0])/len(nodisp)))\n",
        "  # nodisp = analysisdf[analysisdf['truth'] == 1]\n",
        "  # print(nodisp.shape)\n",
        "  # print(\"accuracy of disposition {}\". format(len(disp[disp['predictions'] == 1])/len(disp)))\n",
        "  # undet = analysisdf[analysisdf['truth'] == 2]\n",
        "  # print(undet.shape)\n",
        "  # print(\"accuracy of undetermined {}\". format(len(undet[undet['predictions'] == 2])/len(undet)))"
      ],
      "execution_count": null,
      "outputs": [
        {
          "output_type": "stream",
          "text": [
            "(2410, 2)\n",
            "truth \n",
            " 1    1754\n",
            "0     471\n",
            "2     185\n",
            "Name: truth, dtype: int64\n",
            "predictions \n",
            " 1    2410\n",
            "Name: predictions, dtype: int64\n",
            "f-1 score micro is:0.7278008298755186 \n",
            " f-1 score macro is:0.2808197246237592\n",
            "(2410, 2)\n",
            "truth \n",
            " 1    1753\n",
            "0     471\n",
            "2     186\n",
            "Name: truth, dtype: int64\n",
            "predictions \n",
            " 1    2410\n",
            "Name: predictions, dtype: int64\n",
            "f-1 score micro is:0.7273858921161825 \n",
            " f-1 score macro is:0.2807270397950196\n",
            "(2410, 2)\n",
            "truth \n",
            " 1    1753\n",
            "0     471\n",
            "2     186\n",
            "Name: truth, dtype: int64\n",
            "predictions \n",
            " 1    2410\n",
            "Name: predictions, dtype: int64\n",
            "f-1 score micro is:0.7273858921161825 \n",
            " f-1 score macro is:0.2807270397950196\n"
          ],
          "name": "stdout"
        },
        {
          "output_type": "stream",
          "text": [
            "/usr/local/lib/python3.7/dist-packages/sklearn/metrics/_classification.py:1272: UndefinedMetricWarning: Precision is ill-defined and being set to 0.0 in labels with no predicted samples. Use `zero_division` parameter to control this behavior.\n",
            "  _warn_prf(average, modifier, msg_start, len(result))\n",
            "/usr/local/lib/python3.7/dist-packages/sklearn/metrics/_classification.py:1272: UndefinedMetricWarning: Precision and F-score are ill-defined and being set to 0.0 in labels with no predicted samples. Use `zero_division` parameter to control this behavior.\n",
            "  _warn_prf(average, modifier, msg_start, len(result))\n"
          ],
          "name": "stderr"
        }
      ]
    },
    {
      "cell_type": "markdown",
      "metadata": {
        "id": "Hn9HRo61msPQ"
      },
      "source": [
        "We will first create a working architecture that will perform all the classification tasks. In our case, we will use the BiLSTM for all the tasks. The embeddings are shared across tasks using Bio-BERT. Once we have separate trained models for each of the tasks, then it is time to explore ways for these individual models to 'talk' to each other. \n",
        "- https://ruder.io/multi-task/ has a brief overview of methods in multi-task learning\n",
        "\n",
        "Now, the nature of the classification tasks are not significantly different from each other. Each task picks on a part of the text from the sentence that conveys the meaning.\n",
        "While we have an array of methods that deal with multi-task learning problems, not all of them apply here.\n",
        "\n",
        "Questions-\n",
        "- Can we share some parameters for learning among the tasks?\n",
        "- Eavesdropping\n",
        "- Soft Parameter sharing\n",
        "\n",
        "Questions about Deep Learning experimentation\n",
        "- Should we add more layers?\n",
        "- Should we test for more iterations?\n",
        "- What other architectures should we experiment with?"
      ]
    },
    {
      "cell_type": "markdown",
      "metadata": {
        "id": "o2UMokSg2tlU"
      },
      "source": [
        "Other 4 tasks"
      ]
    },
    {
      "cell_type": "code",
      "metadata": {
        "id": "iz1r7dOZbsLJ"
      },
      "source": [
        "HIDDEN_DIM = 256\n",
        "N_LAYERS = 2\n",
        "BIDIRECTIONAL = True\n",
        "DROPOUT = 0.25"
      ],
      "execution_count": null,
      "outputs": []
    },
    {
      "cell_type": "code",
      "metadata": {
        "colab": {
          "base_uri": "https://localhost:8080/"
        },
        "id": "-uMkKqkrdfe2",
        "outputId": "274ba289-cc0d-4a39-f24e-876e5c8119f4"
      },
      "source": [
        "print(\"{} \\n Shape of only disp {}\".format(only_disp_fulldf['certainty'].value_counts(),only_disp_fulldf.shape))\n",
        "only_disp_fulldf.columns"
      ],
      "execution_count": null,
      "outputs": [
        {
          "output_type": "stream",
          "text": [
            "Certain         1177\n",
            "Hypothetical     134\n",
            "Conditional      100\n",
            "Unknown            2\n",
            "Name: certainty, dtype: int64 \n",
            " Shape of only disp (1413, 16)\n"
          ],
          "name": "stdout"
        },
        {
          "output_type": "execute_result",
          "data": {
            "text/plain": [
              "Index(['term_id', 'event_id', 'startchar', 'endchar', 'medication',\n",
              "       'disposition', 'action', 'temporality', 'certainty', 'actor',\n",
              "       'negation', 'docno', 'file_location', 'text', 'spans', 'tokenizedtext'],\n",
              "      dtype='object')"
            ]
          },
          "metadata": {
            "tags": []
          },
          "execution_count": 37
        }
      ]
    },
    {
      "cell_type": "code",
      "metadata": {
        "colab": {
          "base_uri": "https://localhost:8080/"
        },
        "id": "qOnlxQ5EE_9X",
        "outputId": "67670c26-23c1-4ba4-a6c7-614d66533ef6"
      },
      "source": [
        "from sklearn.model_selection import StratifiedKFold\n",
        "from sklearn import preprocessing\n",
        "import matplotlib.pyplot as plt\n",
        "\n",
        "\n",
        "label= ['certainty','temporality','action','actor']\n",
        "# label= ['certainty']\n",
        "\n",
        "for l in label:\n",
        "  #Filter out records for which the class count is less than < 40\n",
        "  sub_only_disp_df = only_disp_fulldf.copy()\n",
        "  sub_only_disp_df = sub_only_disp_df[sub_only_disp_df.groupby(l)[l].transform('count')>40]\n",
        "  sub_only_disp_df.reset_index(drop= True, inplace = True)\n",
        "  print(sub_only_disp_df[l].value_counts())\n",
        "  \n",
        "  #k fold cross validation(k=3)\n",
        "  n_splits=5\n",
        "  skf = StratifiedKFold(n_splits)\n",
        "  le = preprocessing.LabelEncoder()\n",
        "\n",
        "  X= sub_only_disp_df[['tokenizedtext']]\n",
        "  y= sub_only_disp_df[[l]]\n",
        "  skf.get_n_splits(X,y)\n",
        "  \n",
        "  #=====================================\n",
        "  # SET BATCHSIZE AND N_EPOCHS\n",
        "  batchsize=15\n",
        "  n_epochs_new = 200\n",
        "  learning_rate = 0.001\n",
        "  #=============================================\n",
        "\n",
        "  i = 0\n",
        "  countr = 0\n",
        "  for train_index, val_index in skf.split(X,y):\n",
        "    countr+=1\n",
        "    optimizer = optim.Adam(model.parameters(),lr= learning_rate)\n",
        "    # optimizer2 = optim.ASGD(model.parameters())\n",
        "\n",
        "    print(\"-----------------------------------\", l ,\"-----------------------------------\")\n",
        "    i+=1\n",
        "    print(\"cross validation {} of {}\".format(i,n_splits))\n",
        "    output_dim = y[l].nunique()\n",
        "    #print(\"output dimension \", output_dim)\n",
        "    \n",
        "    X_train, X_val = X.iloc[train_index], X.iloc[val_index]\n",
        "    y_train, y_val = y.iloc[train_index], y.iloc[val_index]\n",
        "\n",
        "    X_train.reset_index(drop= True, inplace = True)\n",
        "    y_train.reset_index(drop= True, inplace = True)\n",
        "    X_val.reset_index(drop= True, inplace = True)\n",
        "    y_val.reset_index(drop= True, inplace = True)\n",
        "\n",
        "    print(\"xtrain =\", X_train.shape, \" XVal =\", X_val.shape, \" y_train= \", y_train.shape, \" y_val=\",y_val.shape)\n",
        "    le = preprocessing.LabelEncoder()\n",
        "    yt = le.fit_transform(y_train[l].values)\n",
        "    yv = le.transform(y_val[l].values)\n",
        "    # xt = torch.from_numpy(traindata['tokenizedtext'].values).float()\n",
        "    yt = torch.from_numpy(yt.reshape((y_train[l].shape[0],-1))).float()\n",
        "    xt = torch.tensor(X_train['tokenizedtext'])\n",
        "    train_tsdata = torch.utils.data.TensorDataset(xt, yt)\n",
        "    # valid_tsdata = torch.utils.data.TensorDataset(valdata)\n",
        "    #print(np.unique(yv))\n",
        "    yv = torch.from_numpy(yv.reshape((y_val[l].shape[0],-1))).float()\n",
        "    xv = torch.tensor(X_val['tokenizedtext'])\n",
        "    val_tsdata = torch.utils.data.TensorDataset(xv, yv)\n",
        "\n",
        "    other_model = BiLSTM(clinical_bert_model,HIDDEN_DIM,output_dim,N_LAYERS,BIDIRECTIONAL,DROPOUT)\n",
        "    other_model = other_model.to(device)\n",
        "    \n",
        "    best_valid_loss,tloss,vloss,tacc,vacc =  train_evaluate(other_model,train_tsdata, val_tsdata,optimizer, criterion, batchsize,learning_rate,l + \"folds\" + str(countr),n_epochs_new)\n",
        "                                              \n",
        "    plt.title(\"Train and Validation Loss\")\n",
        "    plt.plot(tloss,label='train loss')\n",
        "    plt.plot(vloss,label='validation loss')\n",
        "    plt.legend()\n",
        "\n",
        "    plt.show()\n",
        "    print(\"best validation loss is \", best_valid_loss)"
      ],
      "execution_count": null,
      "outputs": [
        {
          "output_type": "stream",
          "text": [
            "Certain         1177\n",
            "Hypothetical     134\n",
            "Conditional      100\n",
            "Name: certainty, dtype: int64\n",
            "----------------------------------- certainty -----------------------------------\n",
            "cross validation 1 of 5\n",
            "xtrain = (1128, 1)  XVal = (283, 1)  y_train=  (1128, 1)  y_val= (283, 1)\n",
            "================================================================\n"
          ],
          "name": "stdout"
        },
        {
          "output_type": "stream",
          "text": [
            "/usr/local/lib/python3.7/dist-packages/ipykernel_launcher.py:41: UserWarning: Implicit dimension choice for softmax has been deprecated. Change the call to include dim=X as an argument.\n"
          ],
          "name": "stderr"
        },
        {
          "output_type": "stream",
          "text": [
            "Batch size:15 Task: certaintyfolds1\n",
            "Epoch: 01 Epoch Time: 0m 17s\n",
            "\tTrain Loss: 1.105 Train Acc: 7.80%\n",
            "\t Val. Loss: 1.104 Val. Acc: 7.07%\n",
            "Batch size:15 Task: certaintyfolds1\n",
            "Epoch: 02 Epoch Time: 0m 17s\n",
            "\tTrain Loss: 1.105 Train Acc: 7.27%\n",
            "\t Val. Loss: 1.104 Val. Acc: 7.07%\n",
            "Batch size:15 Task: certaintyfolds1\n",
            "Epoch: 03 Epoch Time: 0m 17s\n",
            "\tTrain Loss: 1.105 Train Acc: 7.54%\n",
            "\t Val. Loss: 1.104 Val. Acc: 7.07%\n",
            "Batch size:15 Task: certaintyfolds1\n",
            "Epoch: 04 Epoch Time: 0m 17s\n",
            "\tTrain Loss: 1.105 Train Acc: 7.18%\n",
            "\t Val. Loss: 1.104 Val. Acc: 7.07%\n",
            "Batch size:15 Task: certaintyfolds1\n",
            "Epoch: 05 Epoch Time: 0m 17s\n",
            "\tTrain Loss: 1.105 Train Acc: 7.27%\n",
            "\t Val. Loss: 1.104 Val. Acc: 7.07%\n",
            "Batch size:15 Task: certaintyfolds1\n",
            "Epoch: 06 Epoch Time: 0m 17s\n",
            "\tTrain Loss: 1.105 Train Acc: 7.36%\n",
            "\t Val. Loss: 1.104 Val. Acc: 7.07%\n",
            "Batch size:15 Task: certaintyfolds1\n",
            "Epoch: 07 Epoch Time: 0m 17s\n",
            "\tTrain Loss: 1.105 Train Acc: 8.78%\n",
            "\t Val. Loss: 1.104 Val. Acc: 7.07%\n",
            "Batch size:15 Task: certaintyfolds1\n",
            "Epoch: 08 Epoch Time: 0m 17s\n",
            "\tTrain Loss: 1.105 Train Acc: 7.36%\n",
            "\t Val. Loss: 1.104 Val. Acc: 7.07%\n",
            "Batch size:15 Task: certaintyfolds1\n",
            "Epoch: 09 Epoch Time: 0m 17s\n",
            "\tTrain Loss: 1.105 Train Acc: 7.45%\n",
            "\t Val. Loss: 1.104 Val. Acc: 7.07%\n",
            "Batch size:15 Task: certaintyfolds1\n",
            "Epoch: 10 Epoch Time: 0m 17s\n",
            "\tTrain Loss: 1.105 Train Acc: 7.45%\n",
            "\t Val. Loss: 1.104 Val. Acc: 7.07%\n",
            "Batch size:15 Task: certaintyfolds1\n",
            "Epoch: 11 Epoch Time: 0m 17s\n",
            "\tTrain Loss: 1.105 Train Acc: 7.71%\n",
            "\t Val. Loss: 1.104 Val. Acc: 7.07%\n",
            "Batch size:15 Task: certaintyfolds1\n",
            "Epoch: 12 Epoch Time: 0m 17s\n",
            "\tTrain Loss: 1.105 Train Acc: 6.83%\n",
            "\t Val. Loss: 1.104 Val. Acc: 7.07%\n",
            "Batch size:15 Task: certaintyfolds1\n",
            "Epoch: 13 Epoch Time: 0m 17s\n",
            "\tTrain Loss: 1.105 Train Acc: 7.62%\n",
            "\t Val. Loss: 1.104 Val. Acc: 7.07%\n",
            "Batch size:15 Task: certaintyfolds1\n",
            "Epoch: 14 Epoch Time: 0m 17s\n",
            "\tTrain Loss: 1.105 Train Acc: 7.98%\n",
            "\t Val. Loss: 1.104 Val. Acc: 7.07%\n",
            "Batch size:15 Task: certaintyfolds1\n",
            "Epoch: 15 Epoch Time: 0m 17s\n",
            "\tTrain Loss: 1.105 Train Acc: 7.98%\n",
            "\t Val. Loss: 1.104 Val. Acc: 7.07%\n",
            "Batch size:15 Task: certaintyfolds1\n",
            "Epoch: 16 Epoch Time: 0m 17s\n",
            "\tTrain Loss: 1.105 Train Acc: 7.71%\n",
            "\t Val. Loss: 1.104 Val. Acc: 7.07%\n",
            "Batch size:15 Task: certaintyfolds1\n",
            "Epoch: 17 Epoch Time: 0m 17s\n",
            "\tTrain Loss: 1.105 Train Acc: 7.80%\n",
            "\t Val. Loss: 1.104 Val. Acc: 7.07%\n",
            "Batch size:15 Task: certaintyfolds1\n",
            "Epoch: 18 Epoch Time: 0m 17s\n",
            "\tTrain Loss: 1.105 Train Acc: 7.09%\n",
            "\t Val. Loss: 1.104 Val. Acc: 7.07%\n",
            "Batch size:15 Task: certaintyfolds1\n",
            "Epoch: 19 Epoch Time: 0m 17s\n",
            "\tTrain Loss: 1.105 Train Acc: 6.91%\n",
            "\t Val. Loss: 1.104 Val. Acc: 7.07%\n",
            "Batch size:15 Task: certaintyfolds1\n",
            "Epoch: 20 Epoch Time: 0m 17s\n",
            "\tTrain Loss: 1.105 Train Acc: 7.36%\n",
            "\t Val. Loss: 1.104 Val. Acc: 7.07%\n",
            "Batch size:15 Task: certaintyfolds1\n",
            "Epoch: 21 Epoch Time: 0m 17s\n",
            "\tTrain Loss: 1.105 Train Acc: 7.36%\n",
            "\t Val. Loss: 1.104 Val. Acc: 7.07%\n"
          ],
          "name": "stdout"
        }
      ]
    },
    {
      "cell_type": "code",
      "metadata": {
        "id": "ABDVqzzW24vv",
        "colab": {
          "base_uri": "https://localhost:8080/"
        },
        "outputId": "8d26924a-8a09-437f-f3b1-fbc746744d7d"
      },
      "source": [
        "le.classes_"
      ],
      "execution_count": null,
      "outputs": [
        {
          "output_type": "execute_result",
          "data": {
            "text/plain": [
              "array(['Certain', 'Conditional', 'Hypothetical'], dtype=object)"
            ]
          },
          "metadata": {
            "tags": []
          },
          "execution_count": 42
        }
      ]
    },
    {
      "cell_type": "markdown",
      "metadata": {
        "id": "lIlV0dZIaV8f"
      },
      "source": [
        "Error Analysis"
      ]
    },
    {
      "cell_type": "code",
      "metadata": {
        "id": "IFvXMUJnsf1c"
      },
      "source": [
        "def read_predictions(taskname):\n",
        "  try:\n",
        "    preds = np.loadtxt(\"/content/drive/My Drive/Dataset_pls/CMED21/output/\"+ taskname +\"_p.txt\").astype(int).tolist()\n",
        "    truth = np.loadtxt(\"/content/drive/My Drive/Dataset_pls/CMED21/output/\"+ taskname +\"_a.txt\").astype(int).tolist()\n",
        "    analysisdf = pd.DataFrame(list(zip(truth, preds)), columns = ['truth', 'predictions'])\n",
        "    print(analysisdf.shape)\n",
        "    # print(analysisdf.head(5))\n",
        "  except:\n",
        "    print(\"no files exist.\")\n",
        "    analysisdf= pd.DataFrame(data=None)\n",
        "  return analysisdf"
      ],
      "execution_count": null,
      "outputs": []
    },
    {
      "cell_type": "code",
      "metadata": {
        "id": "X7vFmZWRDEBz"
      },
      "source": [
        "output_path\n",
        "output_path = \"/content/drive/My Drive/Dataset_pls/CMED21/output/23-03-2021-05-10-59/\""
      ],
      "execution_count": null,
      "outputs": []
    },
    {
      "cell_type": "code",
      "metadata": {
        "colab": {
          "base_uri": "https://localhost:8080/"
        },
        "id": "ayZlLN7huxuk",
        "outputId": "0a09ac88-4656-4d28-92fe-893696271688"
      },
      "source": [
        "from sklearn.metrics import accuracy_score\n",
        "\n",
        "label= ['certainty','temporality','action','actor']\n",
        "for l in label:\n",
        "  numfolds = 5\n",
        "  n = 0\n",
        "  while n < numfolds:\n",
        "    n += 1\n",
        "    print(\"-----------\"+ l +\"---------------\")\n",
        "    taskname = l+\"folds\"+ str(n)\n",
        "    output_df = read_predictions(output_path, taskname)\n",
        "    y_true= output_df['truth']\n",
        "    y_pred= output_df['predictions']\n",
        "\n",
        "    sub_only_disp_df = only_disp_fulldf.copy()\n",
        "    sub_only_disp_df = sub_only_disp_df[sub_only_disp_df.groupby(l)[l].transform('count')>40]\n",
        "    sub_only_disp_df.reset_index(drop= True, inplace = True)\n",
        "    \n",
        "    print(sub_only_disp_df.shape)\n",
        "    print(sub_only_disp_df[l].value_counts())\n",
        "    \n",
        "    sub_only_disp_df['pred']= y_pred\n",
        "    sub_only_disp_df['truth'] = y_true\n",
        "    print(\"Truth distribution:{}\".format(sub_only_disp_df['truth'].value_counts()))\n",
        "    print(\"-----------------------\")\n",
        "    print(\"Prediction distribution:{}\".format(sub_only_disp_df['pred'].value_counts()))\n",
        "    print(\"-----------------------\")\n",
        "    \n",
        "    #create csv file\n",
        "    sub_only_disp_df.to_csv(\"/content/drive/My Drive/Dataset_pls/CMED21/output/\"+l+\"_errors.csv\")\n",
        "    \n",
        "    #overall Accuracy score\n",
        "    print(accuracy_score(y_true, y_pred,normalize=True, sample_weight=None))\n",
        "    # computing class level accuracies\n",
        "    analysisdf = sub_only_disp_df.copy()\n",
        "    sub_labels= list(sub_only_disp_df[l].unique())\n",
        "    print(sub_labels)\n",
        "\n",
        "    for i,s in enumerate(sub_labels):\n",
        "      sub_class = analysisdf[analysisdf['truth'] == i]\n",
        "      # print(sub_class.shape)\n",
        "      print(\" {} Predicted correctly:{} out of {}\".format(s,len(sub_class[sub_class['pred'] == i]),len(sub_class)))\n",
        "      print(\"accuracy of {} {}\". format(s,len(sub_class[sub_class['pred'] == i])/len(sub_class)))\n",
        "      i+=1\n",
        "    \n",
        "    f1_disp_micro= f1_score(y_true, y_pred, average='micro')\n",
        "    f1_disp_macro= f1_score(y_true, y_pred, average='macro')\n",
        "\n",
        "    p_disp_micro= precision_score(y_true, y_pred, average='micro')\n",
        "    p_disp_macro= precision_score(y_true, y_pred, average='macro')\n",
        "\n",
        "    r_disp_micro= recall_score(y_true, y_pred, average='micro')\n",
        "    r_disp_macro= recall_score(y_true, y_pred, average='macro')\n",
        "\n",
        "    target_names = list(sub_labels)\n",
        "    \n",
        "    result_report = open(output_path+\"classification_report_disp.txt\", fileexists(output_path+\"classification_report_disp.txt\"))\n",
        "    print(\"========================== \" + taskname + \" ==========================\", file = result_report)\n",
        "    print(metrics.classification_report(y_true, y_pred, target_names=target_names),file=result_report)\n",
        "\n",
        "\n",
        "    print(\"f-1 score micro is:{} \\n f-1 score macro is:{}\".format(f1_disp_micro,f1_disp_macro))\n",
        "    print(\"f-1 score micro is\", f1_disp_micro, \"\\n f-1 score macro is: \",f1_disp_macro, file=result_report)\n",
        "    print(\"precision micro is\", p_disp_micro, \"\\n precision macro is: \",p_disp_macro, file=result_report)\n",
        "    print(\"recall micro is\", r_disp_micro, \"\\n recall macro is: \",r_disp_macro, file=result_report)\n",
        "    result_report.close()\n",
        "print(\"-----------------------\")\n",
        "\n",
        "  "
      ],
      "execution_count": null,
      "outputs": [
        {
          "output_type": "stream",
          "text": [
            "-----------certainty---------------\n",
            "(283, 2)\n",
            "truth \n",
            " 0    236\n",
            "2     27\n",
            "1     20\n",
            "Name: truth, dtype: int64\n",
            "predictions \n",
            " 1    250\n",
            "0     33\n",
            "Name: predictions, dtype: int64\n",
            "(1411, 16)\n",
            "Certain         1177\n",
            "Hypothetical     134\n",
            "Conditional      100\n",
            "Name: certainty, dtype: int64\n",
            "Truth distribution:0.0    236\n",
            "2.0     27\n",
            "1.0     20\n",
            "Name: truth, dtype: int64\n",
            "-----------------------\n",
            "Prediction distribution:1.0    250\n",
            "0.0     33\n",
            "Name: pred, dtype: int64\n",
            "-----------------------\n",
            "0.1625441696113074\n",
            "['Certain', 'Conditional', 'Hypothetical']\n",
            " Certain Predicted correctly:27 out of 236\n",
            "accuracy of Certain 0.11440677966101695\n",
            " Conditional Predicted correctly:19 out of 20\n",
            "accuracy of Conditional 0.95\n",
            " Hypothetical Predicted correctly:0 out of 27\n",
            "accuracy of Hypothetical 0.0\n",
            "f-1 score micro is:0.1625441696113074 \n",
            " f-1 score macro is:0.11382807838817753\n",
            "-----------certainty---------------\n"
          ],
          "name": "stdout"
        },
        {
          "output_type": "stream",
          "text": [
            "/usr/local/lib/python3.7/dist-packages/sklearn/metrics/_classification.py:1272: UndefinedMetricWarning: Precision is ill-defined and being set to 0.0 in labels with no predicted samples. Use `zero_division` parameter to control this behavior.\n",
            "  _warn_prf(average, modifier, msg_start, len(result))\n",
            "/usr/local/lib/python3.7/dist-packages/sklearn/metrics/_classification.py:1272: UndefinedMetricWarning: Precision and F-score are ill-defined and being set to 0.0 in labels with no predicted samples. Use `zero_division` parameter to control this behavior.\n",
            "  _warn_prf(average, modifier, msg_start, len(result))\n"
          ],
          "name": "stderr"
        },
        {
          "output_type": "stream",
          "text": [
            "(282, 2)\n",
            "truth \n",
            " 0    236\n",
            "2     26\n",
            "1     20\n",
            "Name: truth, dtype: int64\n",
            "predictions \n",
            " 1    282\n",
            "Name: predictions, dtype: int64\n",
            "(1411, 16)\n",
            "Certain         1177\n",
            "Hypothetical     134\n",
            "Conditional      100\n",
            "Name: certainty, dtype: int64\n",
            "Truth distribution:0.0    236\n",
            "2.0     26\n",
            "1.0     20\n",
            "Name: truth, dtype: int64\n",
            "-----------------------\n",
            "Prediction distribution:1.0    282\n",
            "Name: pred, dtype: int64\n",
            "-----------------------\n",
            "0.07092198581560284\n",
            "['Certain', 'Conditional', 'Hypothetical']\n",
            " Certain Predicted correctly:0 out of 236\n",
            "accuracy of Certain 0.0\n",
            " Conditional Predicted correctly:20 out of 20\n",
            "accuracy of Conditional 1.0\n",
            " Hypothetical Predicted correctly:0 out of 26\n",
            "accuracy of Hypothetical 0.0\n",
            "f-1 score micro is:0.07092198581560284 \n",
            " f-1 score macro is:0.04415011037527594\n",
            "-----------certainty---------------\n"
          ],
          "name": "stdout"
        },
        {
          "output_type": "stream",
          "text": [
            "/usr/local/lib/python3.7/dist-packages/sklearn/metrics/_classification.py:1272: UndefinedMetricWarning: Precision is ill-defined and being set to 0.0 in labels with no predicted samples. Use `zero_division` parameter to control this behavior.\n",
            "  _warn_prf(average, modifier, msg_start, len(result))\n",
            "/usr/local/lib/python3.7/dist-packages/sklearn/metrics/_classification.py:1272: UndefinedMetricWarning: Precision and F-score are ill-defined and being set to 0.0 in labels with no predicted samples. Use `zero_division` parameter to control this behavior.\n",
            "  _warn_prf(average, modifier, msg_start, len(result))\n"
          ],
          "name": "stderr"
        },
        {
          "output_type": "stream",
          "text": [
            "(282, 2)\n",
            "truth \n",
            " 0    235\n",
            "2     27\n",
            "1     20\n",
            "Name: truth, dtype: int64\n",
            "predictions \n",
            " 1    247\n",
            "2     35\n",
            "Name: predictions, dtype: int64\n",
            "(1411, 16)\n",
            "Certain         1177\n",
            "Hypothetical     134\n",
            "Conditional      100\n",
            "Name: certainty, dtype: int64\n",
            "Truth distribution:0.0    235\n",
            "2.0     27\n",
            "1.0     20\n",
            "Name: truth, dtype: int64\n",
            "-----------------------\n",
            "Prediction distribution:1.0    247\n",
            "2.0     35\n",
            "Name: pred, dtype: int64\n",
            "-----------------------\n",
            "0.08156028368794327\n",
            "['Certain', 'Conditional', 'Hypothetical']\n",
            " Certain Predicted correctly:0 out of 235\n",
            "accuracy of Certain 0.0\n",
            " Conditional Predicted correctly:20 out of 20\n",
            "accuracy of Conditional 1.0\n",
            " Hypothetical Predicted correctly:3 out of 27\n",
            "accuracy of Hypothetical 0.1111111111111111\n",
            "f-1 score micro is:0.08156028368794327 \n",
            " f-1 score macro is:0.0821956425435947\n",
            "-----------certainty---------------\n"
          ],
          "name": "stdout"
        },
        {
          "output_type": "stream",
          "text": [
            "/usr/local/lib/python3.7/dist-packages/sklearn/metrics/_classification.py:1272: UndefinedMetricWarning: Precision is ill-defined and being set to 0.0 in labels with no predicted samples. Use `zero_division` parameter to control this behavior.\n",
            "  _warn_prf(average, modifier, msg_start, len(result))\n",
            "/usr/local/lib/python3.7/dist-packages/sklearn/metrics/_classification.py:1272: UndefinedMetricWarning: Precision and F-score are ill-defined and being set to 0.0 in labels with no predicted samples. Use `zero_division` parameter to control this behavior.\n",
            "  _warn_prf(average, modifier, msg_start, len(result))\n"
          ],
          "name": "stderr"
        },
        {
          "output_type": "stream",
          "text": [
            "(282, 2)\n",
            "truth \n",
            " 0    235\n",
            "2     27\n",
            "1     20\n",
            "Name: truth, dtype: int64\n",
            "predictions \n",
            " 1    282\n",
            "Name: predictions, dtype: int64\n",
            "(1411, 16)\n",
            "Certain         1177\n",
            "Hypothetical     134\n",
            "Conditional      100\n",
            "Name: certainty, dtype: int64\n",
            "Truth distribution:0.0    235\n",
            "2.0     27\n",
            "1.0     20\n",
            "Name: truth, dtype: int64\n",
            "-----------------------\n",
            "Prediction distribution:1.0    282\n",
            "Name: pred, dtype: int64\n",
            "-----------------------\n",
            "0.07092198581560284\n",
            "['Certain', 'Conditional', 'Hypothetical']\n",
            " Certain Predicted correctly:0 out of 235\n",
            "accuracy of Certain 0.0\n",
            " Conditional Predicted correctly:20 out of 20\n",
            "accuracy of Conditional 1.0\n",
            " Hypothetical Predicted correctly:0 out of 27\n",
            "accuracy of Hypothetical 0.0\n",
            "f-1 score micro is:0.07092198581560284 \n",
            " f-1 score macro is:0.04415011037527594\n",
            "-----------certainty---------------\n",
            "(282, 2)\n",
            "truth \n",
            " 0    235\n",
            "2     27\n",
            "1     20\n",
            "Name: truth, dtype: int64\n",
            "predictions \n",
            " 1    279\n",
            "2      3\n",
            "Name: predictions, dtype: int64\n",
            "(1411, 16)\n",
            "Certain         1177\n",
            "Hypothetical     134\n",
            "Conditional      100\n",
            "Name: certainty, dtype: int64\n",
            "Truth distribution:0.0    235\n",
            "2.0     27\n",
            "1.0     20\n",
            "Name: truth, dtype: int64\n",
            "-----------------------\n",
            "Prediction distribution:1.0    279\n",
            "2.0      3\n",
            "Name: pred, dtype: int64\n",
            "-----------------------\n"
          ],
          "name": "stdout"
        },
        {
          "output_type": "stream",
          "text": [
            "/usr/local/lib/python3.7/dist-packages/sklearn/metrics/_classification.py:1272: UndefinedMetricWarning: Precision is ill-defined and being set to 0.0 in labels with no predicted samples. Use `zero_division` parameter to control this behavior.\n",
            "  _warn_prf(average, modifier, msg_start, len(result))\n",
            "/usr/local/lib/python3.7/dist-packages/sklearn/metrics/_classification.py:1272: UndefinedMetricWarning: Precision and F-score are ill-defined and being set to 0.0 in labels with no predicted samples. Use `zero_division` parameter to control this behavior.\n",
            "  _warn_prf(average, modifier, msg_start, len(result))\n"
          ],
          "name": "stderr"
        },
        {
          "output_type": "stream",
          "text": [
            "0.06382978723404255\n",
            "['Certain', 'Conditional', 'Hypothetical']\n",
            " Certain Predicted correctly:0 out of 235\n",
            "accuracy of Certain 0.0\n",
            " Conditional Predicted correctly:18 out of 20\n",
            "accuracy of Conditional 0.9\n",
            " Hypothetical Predicted correctly:0 out of 27\n",
            "accuracy of Hypothetical 0.0\n",
            "f-1 score micro is:0.06382978723404255 \n",
            " f-1 score macro is:0.04013377926421404\n",
            "-----------temporality---------------\n"
          ],
          "name": "stdout"
        },
        {
          "output_type": "stream",
          "text": [
            "/usr/local/lib/python3.7/dist-packages/sklearn/metrics/_classification.py:1272: UndefinedMetricWarning: Precision is ill-defined and being set to 0.0 in labels with no predicted samples. Use `zero_division` parameter to control this behavior.\n",
            "  _warn_prf(average, modifier, msg_start, len(result))\n",
            "/usr/local/lib/python3.7/dist-packages/sklearn/metrics/_classification.py:1272: UndefinedMetricWarning: Precision and F-score are ill-defined and being set to 0.0 in labels with no predicted samples. Use `zero_division` parameter to control this behavior.\n",
            "  _warn_prf(average, modifier, msg_start, len(result))\n"
          ],
          "name": "stderr"
        },
        {
          "output_type": "stream",
          "text": [
            "(277, 2)\n",
            "truth \n",
            " 1    149\n",
            "2     99\n",
            "0     29\n",
            "Name: truth, dtype: int64\n",
            "predictions \n",
            " 0    277\n",
            "Name: predictions, dtype: int64\n",
            "(1384, 16)\n",
            "Past       745\n",
            "Present    494\n",
            "Future     145\n",
            "Name: temporality, dtype: int64\n",
            "Truth distribution:1.0    149\n",
            "2.0     99\n",
            "0.0     29\n",
            "Name: truth, dtype: int64\n",
            "-----------------------\n",
            "Prediction distribution:0.0    277\n",
            "Name: pred, dtype: int64\n",
            "-----------------------\n",
            "0.10469314079422383\n",
            "['Present', 'Future', 'Past']\n",
            " Present Predicted correctly:29 out of 29\n",
            "accuracy of Present 1.0\n",
            " Future Predicted correctly:0 out of 149\n",
            "accuracy of Future 0.0\n",
            " Past Predicted correctly:0 out of 99\n",
            "accuracy of Past 0.0\n",
            "f-1 score micro is:0.10469314079422383 \n",
            " f-1 score macro is:0.06318082788671024\n",
            "-----------temporality---------------\n"
          ],
          "name": "stdout"
        },
        {
          "output_type": "stream",
          "text": [
            "/usr/local/lib/python3.7/dist-packages/sklearn/metrics/_classification.py:1272: UndefinedMetricWarning: Precision is ill-defined and being set to 0.0 in labels with no predicted samples. Use `zero_division` parameter to control this behavior.\n",
            "  _warn_prf(average, modifier, msg_start, len(result))\n",
            "/usr/local/lib/python3.7/dist-packages/sklearn/metrics/_classification.py:1272: UndefinedMetricWarning: Precision and F-score are ill-defined and being set to 0.0 in labels with no predicted samples. Use `zero_division` parameter to control this behavior.\n",
            "  _warn_prf(average, modifier, msg_start, len(result))\n"
          ],
          "name": "stderr"
        },
        {
          "output_type": "stream",
          "text": [
            "(277, 2)\n",
            "truth \n",
            " 1    149\n",
            "2     99\n",
            "0     29\n",
            "Name: truth, dtype: int64\n",
            "predictions \n",
            " 2    277\n",
            "Name: predictions, dtype: int64\n",
            "(1384, 16)\n",
            "Past       745\n",
            "Present    494\n",
            "Future     145\n",
            "Name: temporality, dtype: int64\n",
            "Truth distribution:1.0    149\n",
            "2.0     99\n",
            "0.0     29\n",
            "Name: truth, dtype: int64\n",
            "-----------------------\n",
            "Prediction distribution:2.0    277\n",
            "Name: pred, dtype: int64\n",
            "-----------------------\n",
            "0.3574007220216607\n",
            "['Present', 'Future', 'Past']\n",
            " Present Predicted correctly:0 out of 29\n",
            "accuracy of Present 0.0\n",
            " Future Predicted correctly:0 out of 149\n",
            "accuracy of Future 0.0\n",
            " Past Predicted correctly:99 out of 99\n",
            "accuracy of Past 1.0\n",
            "f-1 score micro is:0.3574007220216607 \n",
            " f-1 score macro is:0.17553191489361705\n",
            "-----------temporality---------------\n"
          ],
          "name": "stdout"
        },
        {
          "output_type": "stream",
          "text": [
            "/usr/local/lib/python3.7/dist-packages/sklearn/metrics/_classification.py:1272: UndefinedMetricWarning: Precision is ill-defined and being set to 0.0 in labels with no predicted samples. Use `zero_division` parameter to control this behavior.\n",
            "  _warn_prf(average, modifier, msg_start, len(result))\n",
            "/usr/local/lib/python3.7/dist-packages/sklearn/metrics/_classification.py:1272: UndefinedMetricWarning: Precision and F-score are ill-defined and being set to 0.0 in labels with no predicted samples. Use `zero_division` parameter to control this behavior.\n",
            "  _warn_prf(average, modifier, msg_start, len(result))\n"
          ],
          "name": "stderr"
        },
        {
          "output_type": "stream",
          "text": [
            "(277, 2)\n",
            "truth \n",
            " 1    149\n",
            "2     99\n",
            "0     29\n",
            "Name: truth, dtype: int64\n",
            "predictions \n",
            " 0    259\n",
            "2     18\n",
            "Name: predictions, dtype: int64\n",
            "(1384, 16)\n",
            "Past       745\n",
            "Present    494\n",
            "Future     145\n",
            "Name: temporality, dtype: int64\n",
            "Truth distribution:1.0    149\n",
            "2.0     99\n",
            "0.0     29\n",
            "Name: truth, dtype: int64\n",
            "-----------------------\n",
            "Prediction distribution:0.0    259\n",
            "2.0     18\n",
            "Name: pred, dtype: int64\n",
            "-----------------------\n",
            "0.10830324909747292\n",
            "['Present', 'Future', 'Past']\n",
            " Present Predicted correctly:25 out of 29\n",
            "accuracy of Present 0.8620689655172413\n",
            " Future Predicted correctly:0 out of 149\n",
            "accuracy of Future 0.0\n",
            " Past Predicted correctly:5 out of 99\n",
            "accuracy of Past 0.050505050505050504\n",
            "f-1 score micro is:0.10830324909747292 \n",
            " f-1 score macro is:0.08636039886039885\n",
            "-----------temporality---------------\n"
          ],
          "name": "stdout"
        },
        {
          "output_type": "stream",
          "text": [
            "/usr/local/lib/python3.7/dist-packages/sklearn/metrics/_classification.py:1272: UndefinedMetricWarning: Precision is ill-defined and being set to 0.0 in labels with no predicted samples. Use `zero_division` parameter to control this behavior.\n",
            "  _warn_prf(average, modifier, msg_start, len(result))\n",
            "/usr/local/lib/python3.7/dist-packages/sklearn/metrics/_classification.py:1272: UndefinedMetricWarning: Precision and F-score are ill-defined and being set to 0.0 in labels with no predicted samples. Use `zero_division` parameter to control this behavior.\n",
            "  _warn_prf(average, modifier, msg_start, len(result))\n"
          ],
          "name": "stderr"
        },
        {
          "output_type": "stream",
          "text": [
            "(277, 2)\n",
            "truth \n",
            " 1    149\n",
            "2     99\n",
            "0     29\n",
            "Name: truth, dtype: int64\n",
            "predictions \n",
            " 0    277\n",
            "Name: predictions, dtype: int64\n",
            "(1384, 16)\n",
            "Past       745\n",
            "Present    494\n",
            "Future     145\n",
            "Name: temporality, dtype: int64\n",
            "Truth distribution:1.0    149\n",
            "2.0     99\n",
            "0.0     29\n",
            "Name: truth, dtype: int64\n",
            "-----------------------\n",
            "Prediction distribution:0.0    277\n",
            "Name: pred, dtype: int64\n",
            "-----------------------\n",
            "0.10469314079422383\n",
            "['Present', 'Future', 'Past']\n",
            " Present Predicted correctly:29 out of 29\n",
            "accuracy of Present 1.0\n",
            " Future Predicted correctly:0 out of 149\n",
            "accuracy of Future 0.0\n",
            " Past Predicted correctly:0 out of 99\n",
            "accuracy of Past 0.0\n",
            "f-1 score micro is:0.10469314079422383 \n",
            " f-1 score macro is:0.06318082788671024\n",
            "-----------temporality---------------\n"
          ],
          "name": "stdout"
        },
        {
          "output_type": "stream",
          "text": [
            "/usr/local/lib/python3.7/dist-packages/sklearn/metrics/_classification.py:1272: UndefinedMetricWarning: Precision is ill-defined and being set to 0.0 in labels with no predicted samples. Use `zero_division` parameter to control this behavior.\n",
            "  _warn_prf(average, modifier, msg_start, len(result))\n",
            "/usr/local/lib/python3.7/dist-packages/sklearn/metrics/_classification.py:1272: UndefinedMetricWarning: Precision and F-score are ill-defined and being set to 0.0 in labels with no predicted samples. Use `zero_division` parameter to control this behavior.\n",
            "  _warn_prf(average, modifier, msg_start, len(result))\n"
          ],
          "name": "stderr"
        },
        {
          "output_type": "stream",
          "text": [
            "(276, 2)\n",
            "truth \n",
            " 1    149\n",
            "2     98\n",
            "0     29\n",
            "Name: truth, dtype: int64\n",
            "predictions \n",
            " 2    216\n",
            "1     60\n",
            "Name: predictions, dtype: int64\n",
            "(1384, 16)\n",
            "Past       745\n",
            "Present    494\n",
            "Future     145\n",
            "Name: temporality, dtype: int64\n",
            "Truth distribution:1.0    149\n",
            "2.0     98\n",
            "0.0     29\n",
            "Name: truth, dtype: int64\n",
            "-----------------------\n",
            "Prediction distribution:2.0    216\n",
            "1.0     60\n",
            "Name: pred, dtype: int64\n",
            "-----------------------\n",
            "0.37318840579710144\n",
            "['Present', 'Future', 'Past']\n",
            " Present Predicted correctly:0 out of 29\n",
            "accuracy of Present 0.0\n",
            " Future Predicted correctly:28 out of 149\n",
            "accuracy of Future 0.18791946308724833\n",
            " Past Predicted correctly:75 out of 98\n",
            "accuracy of Past 0.7653061224489796\n",
            "f-1 score micro is:0.37318840579710144 \n",
            " f-1 score macro is:0.24854986336716137\n",
            "-----------action---------------\n"
          ],
          "name": "stdout"
        },
        {
          "output_type": "stream",
          "text": [
            "/usr/local/lib/python3.7/dist-packages/sklearn/metrics/_classification.py:1272: UndefinedMetricWarning: Precision is ill-defined and being set to 0.0 in labels with no predicted samples. Use `zero_division` parameter to control this behavior.\n",
            "  _warn_prf(average, modifier, msg_start, len(result))\n",
            "/usr/local/lib/python3.7/dist-packages/sklearn/metrics/_classification.py:1272: UndefinedMetricWarning: Precision and F-score are ill-defined and being set to 0.0 in labels with no predicted samples. Use `zero_division` parameter to control this behavior.\n",
            "  _warn_prf(average, modifier, msg_start, len(result))\n"
          ],
          "name": "stderr"
        },
        {
          "output_type": "stream",
          "text": [
            "(276, 2)\n",
            "truth \n",
            " 2    114\n",
            "3     68\n",
            "4     57\n",
            "1     26\n",
            "0     11\n",
            "Name: truth, dtype: int64\n",
            "predictions \n",
            " 3    245\n",
            "0     31\n",
            "Name: predictions, dtype: int64\n",
            "(1377, 16)\n",
            "Start         568\n",
            "Stop          341\n",
            "UniqueDose    285\n",
            "Increase      129\n",
            "Decrease       54\n",
            "Name: action, dtype: int64\n",
            "Truth distribution:2.0    114\n",
            "3.0     68\n",
            "4.0     57\n",
            "1.0     26\n",
            "0.0     11\n",
            "Name: truth, dtype: int64\n",
            "-----------------------\n",
            "Prediction distribution:3.0    245\n",
            "0.0     31\n",
            "Name: pred, dtype: int64\n",
            "-----------------------\n",
            "0.2210144927536232\n",
            "['Start', 'Stop', 'Increase', 'UniqueDose', 'Decrease']\n",
            " Start Predicted correctly:2 out of 11\n",
            "accuracy of Start 0.18181818181818182\n",
            " Stop Predicted correctly:0 out of 26\n",
            "accuracy of Stop 0.0\n",
            " Increase Predicted correctly:0 out of 114\n",
            "accuracy of Increase 0.0\n",
            " UniqueDose Predicted correctly:59 out of 68\n",
            "accuracy of UniqueDose 0.8676470588235294\n",
            " Decrease Predicted correctly:0 out of 57\n",
            "accuracy of Decrease 0.0\n",
            "f-1 score micro is:0.2210144927536232 \n",
            " f-1 score macro is:0.09444698006998327\n",
            "-----------action---------------\n"
          ],
          "name": "stdout"
        },
        {
          "output_type": "stream",
          "text": [
            "/usr/local/lib/python3.7/dist-packages/sklearn/metrics/_classification.py:1272: UndefinedMetricWarning: Precision is ill-defined and being set to 0.0 in labels with no predicted samples. Use `zero_division` parameter to control this behavior.\n",
            "  _warn_prf(average, modifier, msg_start, len(result))\n",
            "/usr/local/lib/python3.7/dist-packages/sklearn/metrics/_classification.py:1272: UndefinedMetricWarning: Precision and F-score are ill-defined and being set to 0.0 in labels with no predicted samples. Use `zero_division` parameter to control this behavior.\n",
            "  _warn_prf(average, modifier, msg_start, len(result))\n"
          ],
          "name": "stderr"
        },
        {
          "output_type": "stream",
          "text": [
            "(276, 2)\n",
            "truth \n",
            " 2    114\n",
            "3     68\n",
            "4     57\n",
            "1     26\n",
            "0     11\n",
            "Name: truth, dtype: int64\n",
            "predictions \n",
            " 0    127\n",
            "3    114\n",
            "4     29\n",
            "1      6\n",
            "Name: predictions, dtype: int64\n",
            "(1377, 16)\n",
            "Start         568\n",
            "Stop          341\n",
            "UniqueDose    285\n",
            "Increase      129\n",
            "Decrease       54\n",
            "Name: action, dtype: int64\n",
            "Truth distribution:2.0    114\n",
            "3.0     68\n",
            "4.0     57\n",
            "1.0     26\n",
            "0.0     11\n",
            "Name: truth, dtype: int64\n",
            "-----------------------\n",
            "Prediction distribution:0.0    127\n",
            "3.0    114\n",
            "4.0     29\n",
            "1.0      6\n",
            "Name: pred, dtype: int64\n",
            "-----------------------\n",
            "0.10869565217391304\n",
            "['Start', 'Stop', 'Increase', 'UniqueDose', 'Decrease']\n",
            " Start Predicted correctly:6 out of 11\n",
            "accuracy of Start 0.5454545454545454\n",
            " Stop Predicted correctly:0 out of 26\n",
            "accuracy of Stop 0.0\n",
            " Increase Predicted correctly:0 out of 114\n",
            "accuracy of Increase 0.0\n",
            " UniqueDose Predicted correctly:20 out of 68\n",
            "accuracy of UniqueDose 0.29411764705882354\n",
            " Decrease Predicted correctly:4 out of 57\n",
            "accuracy of Decrease 0.07017543859649122\n",
            "f-1 score micro is:0.10869565217391304 \n",
            " f-1 score macro is:0.07995199946666073\n",
            "-----------action---------------\n"
          ],
          "name": "stdout"
        },
        {
          "output_type": "stream",
          "text": [
            "/usr/local/lib/python3.7/dist-packages/sklearn/metrics/_classification.py:1272: UndefinedMetricWarning: Precision is ill-defined and being set to 0.0 in labels with no predicted samples. Use `zero_division` parameter to control this behavior.\n",
            "  _warn_prf(average, modifier, msg_start, len(result))\n",
            "/usr/local/lib/python3.7/dist-packages/sklearn/metrics/_classification.py:1272: UndefinedMetricWarning: Precision and F-score are ill-defined and being set to 0.0 in labels with no predicted samples. Use `zero_division` parameter to control this behavior.\n",
            "  _warn_prf(average, modifier, msg_start, len(result))\n"
          ],
          "name": "stderr"
        },
        {
          "output_type": "stream",
          "text": [
            "(275, 2)\n",
            "truth \n",
            " 2    114\n",
            "3     68\n",
            "4     57\n",
            "1     26\n",
            "0     10\n",
            "Name: truth, dtype: int64\n",
            "predictions \n",
            " 3    275\n",
            "Name: predictions, dtype: int64\n",
            "(1377, 16)\n",
            "Start         568\n",
            "Stop          341\n",
            "UniqueDose    285\n",
            "Increase      129\n",
            "Decrease       54\n",
            "Name: action, dtype: int64\n",
            "Truth distribution:2.0    114\n",
            "3.0     68\n",
            "4.0     57\n",
            "1.0     26\n",
            "0.0     10\n",
            "Name: truth, dtype: int64\n",
            "-----------------------\n",
            "Prediction distribution:3.0    275\n",
            "Name: pred, dtype: int64\n",
            "-----------------------\n",
            "0.24727272727272728\n",
            "['Start', 'Stop', 'Increase', 'UniqueDose', 'Decrease']\n",
            " Start Predicted correctly:0 out of 10\n",
            "accuracy of Start 0.0\n",
            " Stop Predicted correctly:0 out of 26\n",
            "accuracy of Stop 0.0\n",
            " Increase Predicted correctly:0 out of 114\n",
            "accuracy of Increase 0.0\n",
            " UniqueDose Predicted correctly:68 out of 68\n",
            "accuracy of UniqueDose 1.0\n",
            " Decrease Predicted correctly:0 out of 57\n",
            "accuracy of Decrease 0.0\n",
            "f-1 score micro is:0.24727272727272728 \n",
            " f-1 score macro is:0.0793002915451895\n",
            "-----------action---------------\n"
          ],
          "name": "stdout"
        },
        {
          "output_type": "stream",
          "text": [
            "/usr/local/lib/python3.7/dist-packages/sklearn/metrics/_classification.py:1272: UndefinedMetricWarning: Precision is ill-defined and being set to 0.0 in labels with no predicted samples. Use `zero_division` parameter to control this behavior.\n",
            "  _warn_prf(average, modifier, msg_start, len(result))\n",
            "/usr/local/lib/python3.7/dist-packages/sklearn/metrics/_classification.py:1272: UndefinedMetricWarning: Precision and F-score are ill-defined and being set to 0.0 in labels with no predicted samples. Use `zero_division` parameter to control this behavior.\n",
            "  _warn_prf(average, modifier, msg_start, len(result))\n"
          ],
          "name": "stderr"
        },
        {
          "output_type": "stream",
          "text": [
            "(275, 2)\n",
            "truth \n",
            " 2    113\n",
            "3     69\n",
            "4     57\n",
            "1     25\n",
            "0     11\n",
            "Name: truth, dtype: int64\n",
            "predictions \n",
            " 0    275\n",
            "Name: predictions, dtype: int64\n",
            "(1377, 16)\n",
            "Start         568\n",
            "Stop          341\n",
            "UniqueDose    285\n",
            "Increase      129\n",
            "Decrease       54\n",
            "Name: action, dtype: int64\n",
            "Truth distribution:2.0    113\n",
            "3.0     69\n",
            "4.0     57\n",
            "1.0     25\n",
            "0.0     11\n",
            "Name: truth, dtype: int64\n",
            "-----------------------\n",
            "Prediction distribution:0.0    275\n",
            "Name: pred, dtype: int64\n",
            "-----------------------\n",
            "0.04\n",
            "['Start', 'Stop', 'Increase', 'UniqueDose', 'Decrease']\n",
            " Start Predicted correctly:11 out of 11\n",
            "accuracy of Start 1.0\n",
            " Stop Predicted correctly:0 out of 25\n",
            "accuracy of Stop 0.0\n",
            " Increase Predicted correctly:0 out of 113\n",
            "accuracy of Increase 0.0\n",
            " UniqueDose Predicted correctly:0 out of 69\n",
            "accuracy of UniqueDose 0.0\n",
            " Decrease Predicted correctly:0 out of 57\n",
            "accuracy of Decrease 0.0\n",
            "f-1 score micro is:0.04 \n",
            " f-1 score macro is:0.015384615384615385\n",
            "-----------action---------------\n"
          ],
          "name": "stdout"
        },
        {
          "output_type": "stream",
          "text": [
            "/usr/local/lib/python3.7/dist-packages/sklearn/metrics/_classification.py:1272: UndefinedMetricWarning: Precision is ill-defined and being set to 0.0 in labels with no predicted samples. Use `zero_division` parameter to control this behavior.\n",
            "  _warn_prf(average, modifier, msg_start, len(result))\n",
            "/usr/local/lib/python3.7/dist-packages/sklearn/metrics/_classification.py:1272: UndefinedMetricWarning: Precision and F-score are ill-defined and being set to 0.0 in labels with no predicted samples. Use `zero_division` parameter to control this behavior.\n",
            "  _warn_prf(average, modifier, msg_start, len(result))\n"
          ],
          "name": "stderr"
        },
        {
          "output_type": "stream",
          "text": [
            "(275, 2)\n",
            "truth \n",
            " 2    113\n",
            "3     68\n",
            "4     57\n",
            "1     26\n",
            "0     11\n",
            "Name: truth, dtype: int64\n",
            "predictions \n",
            " 0    270\n",
            "1      5\n",
            "Name: predictions, dtype: int64\n",
            "(1377, 16)\n",
            "Start         568\n",
            "Stop          341\n",
            "UniqueDose    285\n",
            "Increase      129\n",
            "Decrease       54\n",
            "Name: action, dtype: int64\n",
            "Truth distribution:2.0    113\n",
            "3.0     68\n",
            "4.0     57\n",
            "1.0     26\n",
            "0.0     11\n",
            "Name: truth, dtype: int64\n",
            "-----------------------\n",
            "Prediction distribution:0.0    270\n",
            "1.0      5\n",
            "Name: pred, dtype: int64\n",
            "-----------------------\n",
            "0.04363636363636364\n",
            "['Start', 'Stop', 'Increase', 'UniqueDose', 'Decrease']\n",
            " Start Predicted correctly:11 out of 11\n",
            "accuracy of Start 1.0\n",
            " Stop Predicted correctly:1 out of 26\n",
            "accuracy of Stop 0.038461538461538464\n",
            " Increase Predicted correctly:0 out of 113\n",
            "accuracy of Increase 0.0\n",
            " UniqueDose Predicted correctly:0 out of 68\n",
            "accuracy of UniqueDose 0.0\n",
            " Decrease Predicted correctly:0 out of 57\n",
            "accuracy of Decrease 0.0\n",
            "f-1 score micro is:0.04363636363636364 \n",
            " f-1 score macro is:0.028561588795775462\n",
            "-----------actor---------------\n"
          ],
          "name": "stdout"
        },
        {
          "output_type": "stream",
          "text": [
            "/usr/local/lib/python3.7/dist-packages/sklearn/metrics/_classification.py:1272: UndefinedMetricWarning: Precision is ill-defined and being set to 0.0 in labels with no predicted samples. Use `zero_division` parameter to control this behavior.\n",
            "  _warn_prf(average, modifier, msg_start, len(result))\n",
            "/usr/local/lib/python3.7/dist-packages/sklearn/metrics/_classification.py:1272: UndefinedMetricWarning: Precision and F-score are ill-defined and being set to 0.0 in labels with no predicted samples. Use `zero_division` parameter to control this behavior.\n",
            "  _warn_prf(average, modifier, msg_start, len(result))\n"
          ],
          "name": "stderr"
        },
        {
          "output_type": "stream",
          "text": [
            "(277, 2)\n",
            "truth \n",
            " 1    256\n",
            "0     21\n",
            "Name: truth, dtype: int64\n",
            "predictions \n",
            " 1    256\n",
            "0     21\n",
            "Name: predictions, dtype: int64\n",
            "(1385, 16)\n",
            "Physician    1278\n",
            "Patient       107\n",
            "Name: actor, dtype: int64\n",
            "Truth distribution:1.0    256\n",
            "0.0     21\n",
            "Name: truth, dtype: int64\n",
            "-----------------------\n",
            "Prediction distribution:1.0    256\n",
            "0.0     21\n",
            "Name: pred, dtype: int64\n",
            "-----------------------\n",
            "0.8483754512635379\n",
            "['Physician', 'Patient']\n",
            " Physician Predicted correctly:0 out of 21\n",
            "accuracy of Physician 0.0\n",
            " Patient Predicted correctly:235 out of 256\n",
            "accuracy of Patient 0.91796875\n",
            "f-1 score micro is:0.8483754512635379 \n",
            " f-1 score macro is:0.458984375\n",
            "-----------actor---------------\n",
            "(277, 2)\n",
            "truth \n",
            " 1    256\n",
            "0     21\n",
            "Name: truth, dtype: int64\n",
            "predictions \n",
            " 1    277\n",
            "Name: predictions, dtype: int64\n",
            "(1385, 16)\n",
            "Physician    1278\n",
            "Patient       107\n",
            "Name: actor, dtype: int64\n",
            "Truth distribution:1.0    256\n",
            "0.0     21\n",
            "Name: truth, dtype: int64\n",
            "-----------------------\n",
            "Prediction distribution:1.0    277\n",
            "Name: pred, dtype: int64\n",
            "-----------------------\n",
            "0.924187725631769\n",
            "['Physician', 'Patient']\n",
            " Physician Predicted correctly:0 out of 21\n",
            "accuracy of Physician 0.0\n",
            " Patient Predicted correctly:256 out of 256\n",
            "accuracy of Patient 1.0\n",
            "f-1 score micro is:0.924187725631769 \n",
            " f-1 score macro is:0.4803001876172608\n",
            "-----------actor---------------\n"
          ],
          "name": "stdout"
        },
        {
          "output_type": "stream",
          "text": [
            "/usr/local/lib/python3.7/dist-packages/sklearn/metrics/_classification.py:1272: UndefinedMetricWarning: Precision is ill-defined and being set to 0.0 in labels with no predicted samples. Use `zero_division` parameter to control this behavior.\n",
            "  _warn_prf(average, modifier, msg_start, len(result))\n",
            "/usr/local/lib/python3.7/dist-packages/sklearn/metrics/_classification.py:1272: UndefinedMetricWarning: Precision and F-score are ill-defined and being set to 0.0 in labels with no predicted samples. Use `zero_division` parameter to control this behavior.\n",
            "  _warn_prf(average, modifier, msg_start, len(result))\n"
          ],
          "name": "stderr"
        },
        {
          "output_type": "stream",
          "text": [
            "(277, 2)\n",
            "truth \n",
            " 1    256\n",
            "0     21\n",
            "Name: truth, dtype: int64\n",
            "predictions \n",
            " 0    179\n",
            "1     98\n",
            "Name: predictions, dtype: int64\n",
            "(1385, 16)\n",
            "Physician    1278\n",
            "Patient       107\n",
            "Name: actor, dtype: int64\n",
            "Truth distribution:1.0    256\n",
            "0.0     21\n",
            "Name: truth, dtype: int64\n",
            "-----------------------\n",
            "Prediction distribution:0.0    179\n",
            "1.0     98\n",
            "Name: pred, dtype: int64\n",
            "-----------------------\n",
            "0.37184115523465705\n",
            "['Physician', 'Patient']\n",
            " Physician Predicted correctly:13 out of 21\n",
            "accuracy of Physician 0.6190476190476191\n",
            " Patient Predicted correctly:90 out of 256\n",
            "accuracy of Patient 0.3515625\n",
            "f-1 score micro is:0.37184115523465705 \n",
            " f-1 score macro is:0.31923728813559327\n",
            "-----------actor---------------\n",
            "(277, 2)\n",
            "truth \n",
            " 1    255\n",
            "0     22\n",
            "Name: truth, dtype: int64\n",
            "predictions \n",
            " 1    277\n",
            "Name: predictions, dtype: int64\n",
            "(1385, 16)\n",
            "Physician    1278\n",
            "Patient       107\n",
            "Name: actor, dtype: int64\n",
            "Truth distribution:1.0    255\n",
            "0.0     22\n",
            "Name: truth, dtype: int64\n",
            "-----------------------\n",
            "Prediction distribution:1.0    277\n",
            "Name: pred, dtype: int64\n",
            "-----------------------\n",
            "0.9205776173285198\n",
            "['Physician', 'Patient']\n",
            " Physician Predicted correctly:0 out of 22\n",
            "accuracy of Physician 0.0\n",
            " Patient Predicted correctly:255 out of 255\n",
            "accuracy of Patient 1.0\n",
            "f-1 score micro is:0.9205776173285198 \n",
            " f-1 score macro is:0.4793233082706767\n",
            "-----------actor---------------\n"
          ],
          "name": "stdout"
        },
        {
          "output_type": "stream",
          "text": [
            "/usr/local/lib/python3.7/dist-packages/sklearn/metrics/_classification.py:1272: UndefinedMetricWarning: Precision is ill-defined and being set to 0.0 in labels with no predicted samples. Use `zero_division` parameter to control this behavior.\n",
            "  _warn_prf(average, modifier, msg_start, len(result))\n",
            "/usr/local/lib/python3.7/dist-packages/sklearn/metrics/_classification.py:1272: UndefinedMetricWarning: Precision and F-score are ill-defined and being set to 0.0 in labels with no predicted samples. Use `zero_division` parameter to control this behavior.\n",
            "  _warn_prf(average, modifier, msg_start, len(result))\n"
          ],
          "name": "stderr"
        },
        {
          "output_type": "stream",
          "text": [
            "(277, 2)\n",
            "truth \n",
            " 1    255\n",
            "0     22\n",
            "Name: truth, dtype: int64\n",
            "predictions \n",
            " 0    277\n",
            "Name: predictions, dtype: int64\n",
            "(1385, 16)\n",
            "Physician    1278\n",
            "Patient       107\n",
            "Name: actor, dtype: int64\n",
            "Truth distribution:1.0    255\n",
            "0.0     22\n",
            "Name: truth, dtype: int64\n",
            "-----------------------\n",
            "Prediction distribution:0.0    277\n",
            "Name: pred, dtype: int64\n",
            "-----------------------\n",
            "0.07942238267148015\n",
            "['Physician', 'Patient']\n",
            " Physician Predicted correctly:22 out of 22\n",
            "accuracy of Physician 1.0\n",
            " Patient Predicted correctly:0 out of 255\n",
            "accuracy of Patient 0.0\n",
            "f-1 score micro is:0.07942238267148015 \n",
            " f-1 score macro is:0.07357859531772576\n",
            "-----------------------\n"
          ],
          "name": "stdout"
        },
        {
          "output_type": "stream",
          "text": [
            "/usr/local/lib/python3.7/dist-packages/sklearn/metrics/_classification.py:1272: UndefinedMetricWarning: Precision is ill-defined and being set to 0.0 in labels with no predicted samples. Use `zero_division` parameter to control this behavior.\n",
            "  _warn_prf(average, modifier, msg_start, len(result))\n",
            "/usr/local/lib/python3.7/dist-packages/sklearn/metrics/_classification.py:1272: UndefinedMetricWarning: Precision and F-score are ill-defined and being set to 0.0 in labels with no predicted samples. Use `zero_division` parameter to control this behavior.\n",
            "  _warn_prf(average, modifier, msg_start, len(result))\n"
          ],
          "name": "stderr"
        }
      ]
    },
    {
      "cell_type": "code",
      "metadata": {
        "id": "iyWNZJPoDGmO"
      },
      "source": [
        "from sklearn.metrics import f1_score, precision_score, recall_score\n",
        "from sklearn import metrics, preprocessing\n",
        "import os\n",
        "\n",
        "numfolds = 3\n",
        "n = 0\n",
        "if output_path == \"\":\n",
        "  output_path = \"/content/drive/My Drive/Dataset_pls/CMED21/output/22-03-2021-22-40-11/\"\n",
        "\n",
        "while n < numfolds:\n",
        "  n += 1\n",
        "  taskname = \"dispositionfold\" + str(n)\n",
        "\n",
        "  analysisdf = read_predictions(output_path, taskname)\n",
        "\n",
        "  y_true= analysisdf['truth']\n",
        "  y_pred= analysisdf['predictions']\n",
        "\n",
        "\n",
        "  f1_disp_micro= f1_score(y_true, y_pred, average='micro')\n",
        "  f1_disp_macro= f1_score(y_true, y_pred, average='macro')\n",
        "\n",
        "  p_disp_micro= precision_score(y_true, y_pred, average='micro')\n",
        "  p_disp_macro= precision_score(y_true, y_pred, average='macro')\n",
        "\n",
        "  r_disp_micro= recall_score(y_true, y_pred, average='micro')\n",
        "  r_disp_macro= recall_score(y_true, y_pred, average='macro')\n",
        "\n",
        "  # le = preprocessing.LabelEncoder()\n",
        "  # le.fit_transform(y_true.values)\n",
        "\n",
        "  target_names = list(le.classes_)\n",
        "  \n",
        "  result_report = open(output_path+\"classification_report_disp.txt\", fileexists(output_path+\"classification_report_disp.txt\"))\n",
        "  print(datetime, file = result_report)\n",
        "  print(metrics.classification_report(y_true, y_pred, target_names=target_names),file=result_report)\n",
        "\n",
        "\n",
        "  print(\"f-1 score micro is:{} \\n f-1 score macro is:{}\".format(f1_disp_micro,f1_disp_macro))\n",
        "  print(\"f-1 score micro is\", f1_disp_micro, \"\\n f-1 score macro is: \",f1_disp_macro, file=result_report)\n",
        "  print(\"precision micro is\", p_disp_micro, \"\\n precision macro is: \",p_disp_macro, file=result_report)\n",
        "  print(\"recall micro is\", r_disp_micro, \"\\n recall macro is: \",r_disp_macro, file=result_report)\n",
        "  result_report.close()\n",
        "  # disp = analysisdf[analysisdf['truth'] == 0]\n",
        "  # print(disp.shape)\n",
        "  # print(\"accuracy of disposition {}\". format(len(nodisp[nodisp['predictions'] == 0])/len(nodisp)))\n",
        "  # nodisp = analysisdf[analysisdf['truth'] == 1]\n",
        "  # print(nodisp.shape)\n",
        "  # print(\"accuracy of disposition {}\". format(len(disp[disp['predictions'] == 1])/len(disp)))\n",
        "  # undet = analysisdf[analysisdf['truth'] == 2]\n",
        "  # print(undet.shape)\n",
        "  # print(\"accuracy of undetermined {}\". format(len(undet[undet['predictions'] == 2])/len(undet)))"
      ],
      "execution_count": null,
      "outputs": []
    },
    {
      "cell_type": "markdown",
      "metadata": {
        "id": "HILcKRNnu9vG"
      },
      "source": [
        "Validation with 80-20 train test split"
      ]
    },
    {
      "cell_type": "code",
      "metadata": {
        "colab": {
          "base_uri": "https://localhost:8080/"
        },
        "id": "hxCyUvu9WsTh",
        "outputId": "cee5f027-9fc3-43ad-9b4c-1341875f5a6a"
      },
      "source": [
        "analysisdf[analysisdf['pred'] == 2].shape"
      ],
      "execution_count": null,
      "outputs": [
        {
          "output_type": "execute_result",
          "data": {
            "text/plain": [
              "(729, 17)"
            ]
          },
          "metadata": {
            "tags": []
          },
          "execution_count": 104
        }
      ]
    },
    {
      "cell_type": "code",
      "metadata": {
        "id": "1jJA3rrxbsnm"
      },
      "source": [
        "from sklearn.model_selection import train_test_split\n",
        "from sklearn import preprocessing\n",
        "\n",
        "label= ['action','certainty','temporality','actor']\n",
        "for l in label:\n",
        "  traindata, valdata = train_test_split(only_disp_fulldf[['tokenizedtext', l]], test_size=0.20, random_state=42)\n",
        "\n",
        "  traindata.reset_index(drop= True, inplace = True)\n",
        "  valdata.reset_index(drop= True, inplace = True)\n",
        "  \n",
        "  le = preprocessing.LabelEncoder()\n",
        "  yt = le.fit_transform(traindata[l].values)\n",
        "  yv = le.transform(valdata[l].values)\n",
        "  # xt = torch.from_numpy(traindata['tokenizedtext'].values).float()\n",
        "  yt = torch.from_numpy(yt.reshape((traindata[l].shape[0],-1))).float()\n",
        "  xt = torch.tensor(traindata['tokenizedtext'])\n",
        "  train_tsdata = torch.utils.data.TensorDataset(xt, yt)\n",
        "  # valid_tsdata = torch.utils.data.TensorDataset(valdata)\n",
        "  yv = torch.from_numpy(yv.reshape((valdata[l].shape[0],-1))).float()\n",
        "  xv = torch.tensor(valdata['tokenizedtext'])\n",
        "  val_tsdata = torch.utils.data.TensorDataset(xv, yv)\n",
        "\n",
        "\n",
        "  other_model = BiLSTM(clinical_bert_model,HIDDEN_DIM,output_dim[l],N_LAYERS,BIDIRECTIONAL,DROPOUT)\n",
        "  other_model = other_model.to(device)\n",
        "  print(l)\n",
        "  train_evaluate(other_model,train_tsdata, val_tsdata,optimizer, criterion, batchsize,l)"
      ],
      "execution_count": null,
      "outputs": []
    },
    {
      "cell_type": "code",
      "metadata": {
        "id": "hi3JyfZTzhYT"
      },
      "source": [
        "\n",
        "\n"
      ],
      "execution_count": null,
      "outputs": []
    },
    {
      "cell_type": "code",
      "metadata": {
        "id": "1Yym1guMDs9H"
      },
      "source": [
        ""
      ],
      "execution_count": null,
      "outputs": []
    }
  ]
}